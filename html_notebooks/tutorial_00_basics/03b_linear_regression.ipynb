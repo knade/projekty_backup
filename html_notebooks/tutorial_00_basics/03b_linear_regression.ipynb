{
 "cells": [
  {
   "cell_type": "markdown",
   "metadata": {},
   "source": [
    "# Regresja liniowa\n",
    "\n",
    "Regresja liniowa to pierwszy i najbardziej podstawowy \"model\", który \n",
    "pewnie część z Was zna ze studiów. \n",
    "\n",
    "Mamy zmienną zależną (np. cena nieruchomości) i zmienną objaśniającą \n",
    "(np. wielkość nieruchomości w metrach kw). Na podstawie danych historycznych \n",
    "chcielibyśmy odkryć zależność między tymi zmiennymi. \n",
    "\n",
    "W przypadku regresji liniowej zakładamy, że zależność między \n",
    "nimi jest liniowa. Co możemy spróbować stwierdzić naocznie np. rysując wykresy z danych historycznych"
   ]
  },
  {
   "cell_type": "markdown",
   "metadata": {},
   "source": [
    "Korzystamy ze zbioru cen mieszkań znanego z 02_data_exploration\n",
    "\n",
    "**Zadanie: przewidzieć cenę mieszkań na podstawie danych**"
   ]
  },
  {
   "cell_type": "code",
   "execution_count": 1,
   "metadata": {},
   "outputs": [],
   "source": [
    "import pandas as pd\n",
    "import sklearn.model_selection\n",
    "import sklearn.linear_model\n",
    "import sklearn.metrics\n",
    "import seaborn as sns\n",
    "import math\n",
    "%matplotlib inline  "
   ]
  },
  {
   "cell_type": "code",
   "execution_count": 2,
   "metadata": {},
   "outputs": [],
   "source": [
    "r = pd.read_csv('ceny_mieszkan_w_poznaniu.tsv', sep = '\\t')\n",
    "\n",
    "# podział na zbiór trenujący/testowy\n",
    "r_train, r_test = sklearn.model_selection.train_test_split(r, test_size = 0.1) "
   ]
  },
  {
   "cell_type": "markdown",
   "metadata": {},
   "source": [
    "Zakładamy w naszym przypadku, że cena będzie funkcją liniową (afiniczną) ilości metrów kwadratowych mieszkania. Jest to założenie logiczne- nim więcej metrów, tym większej ceny się spodziewamy.\n",
    "\n",
    "Jeżeli zależność jest liniowa powinniśmy być w stanie narysować prostą przebiegającą możliwie blisko wszystkich naszych obserwacji."
   ]
  },
  {
   "cell_type": "code",
   "execution_count": 3,
   "metadata": {},
   "outputs": [
    {
     "name": "stderr",
     "output_type": "stream",
     "text": [
      "/Users/lukasz.knade/anaconda3/envs/html/lib/python3.6/site-packages/scipy/stats/stats.py:1713: FutureWarning: Using a non-tuple sequence for multidimensional indexing is deprecated; use `arr[tuple(seq)]` instead of `arr[seq]`. In the future this will be interpreted as an array index, `arr[np.array(seq)]`, which will result either in an error or a different result.\n",
      "  return np.add.reduce(sorted[indexer] * weights, axis=axis) / sumval\n"
     ]
    },
    {
     "data": {
      "text/plain": [
       "<matplotlib.axes._subplots.AxesSubplot at 0x1186deb00>"
      ]
     },
     "execution_count": 3,
     "metadata": {},
     "output_type": "execute_result"
    },
    {
     "data": {
      "image/png": "[encoded data removed]",
      "text/plain": [
       "<Figure size 432x288 with 1 Axes>"
      ]
     },
     "metadata": {
      "needs_background": "light"
     },
     "output_type": "display_data"
    }
   ],
   "source": [
    "sns.regplot(r_train.sqrMeters, r_train.price) # rzeczywiście - im więcej metrów kw. tym większa cena"
   ]
  },
  {
   "cell_type": "markdown",
   "metadata": {},
   "source": [
    "Zależność której szukamy możemy zapisać w postaci prostej funkcji $h= ax + b$, gdzie:\n",
    "* $h$- prognozowana przez nas cena mieszkania,\n",
    "* $x$- ilość metrów,\n",
    "* $a$- nieznany parametr\n",
    "* $b$- nieznany parametr\n",
    "\n",
    "Pozostaje tylko odnaleźć brakujące wartości $a$ i $b$ na podstawie danych historycznych. **Skąd bedziemy wiedzieli że znaleźliśmy właściwe wartości?**"
   ]
  },
  {
   "cell_type": "markdown",
   "metadata": {},
   "source": [
    "### Jak ocenić jakość naszego modelu?\n",
    "\n",
    "Najlepiej, żeby punkty (rzeczywiste, historyczne wartości) leżały na naszej prostej albo jak najlbliżej. Dla konkretnego $x$ kwadrat odległość rzeczywistej ceny $y$ od prognozowanej przez nas wartości ceny $h$ będziemy wynosi: : $$(y - h)^2$$ (kwadrat nakłada duże kary na większy dystans).\n",
    "\n",
    "\n",
    "Uśredniając po wszystkich punktach i biorąc pierwiastek z sumy:\n",
    "\n",
    "$$ RMSE = \\sqrt{\\, \\frac{1}{m} \\sum_{i = 1}^{m} \\left( h^{(i)} - y^{(i)} \\right) ^2 }$$\n",
    "\n",
    "\n",
    "Graficznie można to przedstawić tak:\n",
    "\n",
    "![](ml_introduction_pictures/residual.png)\n"
   ]
  },
  {
   "cell_type": "markdown",
   "metadata": {},
   "source": [
    "### Znalezienie parametrów\n",
    "\n",
    "**Jak znaleźć prostą która najlepiej wpasowuje się w nasze dane?**\n",
    "\n",
    "Nasz model to funkcja liniowa $y = ax + b$ to czego nie wiemy to wartości parametrów $a$ i $b$ dla których RMSE będzie miało najmniejszą wartość.\n",
    "\n",
    "Czyli chcemy znaleźć takie $a$ i $b$, żeby\n",
    "$$ RMSE = \\sqrt{\\, \\frac{1}{m} \\sum_{i = 1}^{m} \\left( h^{(i)} - y^{(i)} \\right) ^2 } = \\sqrt{\\, \\frac{1}{m} \\sum_{i = 1}^{m} \\left( ax - b - y^{(i)} \\right) ^2 } $$ było najmniejsze.\n",
    "\n",
    "Szukamy więc minimum funkcji RMSE (dla zmiennych $a$ i $b$). Implementacja może bazować na odwracaniu macierzy (bardzo kosztowne obliczeniowo) albo na metodach iteracyjnych - metody gradientu prostego, które są szybkie, ale nie zawsze dają optymalne rozwiazanie."
   ]
  },
  {
   "cell_type": "markdown",
   "metadata": {},
   "source": [
    "### Praktyka w sklearn\n",
    "\n",
    "W prakyce parametry $a$ i $b$ znajdowane są automatycznie przez bibliotekę. Łatwo znaleźć RMSE (chcemy jak najmniejsze) i zilustrować algorytm dla różnie wybranych zmiennych niezależnych.\n",
    "\n",
    "Szukajac właściwego modelu często patrzymy na różnego rodzaju baseline'y. W tym przypadku naturalnym estymatorem dla ceny mieszkania może być średnia cena wyliczona na podstawie całeo zbioru testowego. *Jakie RMSE ma taki \"model\"?*"
   ]
  },
  {
   "cell_type": "code",
   "execution_count": 4,
   "metadata": {},
   "outputs": [
    {
     "name": "stdout",
     "output_type": "stream",
     "text": [
      "Baseline test RMSE:  132421.586564792\n"
     ]
    }
   ],
   "source": [
    "import math\n",
    "from sklearn.metrics import mean_squared_error\n",
    "\n",
    "baseline_RMSE = math.sqrt(mean_squared_error([r_train.price.mean()]*len(r_test), r_test.price))\n",
    "print('Baseline test RMSE: ', baseline_RMSE)"
   ]
  },
  {
   "cell_type": "code",
   "execution_count": 5,
   "metadata": {},
   "outputs": [],
   "source": [
    "def evaluate_regression(column_name):\n",
    "     # narysujmy wykres danej cechy w funkcji ceny\n",
    "    sns.regplot(r_train[column_name], r_train.price)\n",
    "\n",
    "    # jakie RMSE uzyskamy dla tej cechy?\n",
    "    m1 = sklearn.linear_model.LinearRegression()\n",
    "    \n",
    "    # w ten sposób podajemy kolumny jako listę wartości do naszego modelu\n",
    "    # niestety nie akceptuje on pd.Series więc konwertujemy ją do listy\n",
    "    X_train = r_train[column_name].values.reshape(-1, 1)\n",
    "    y_train = r_train.price.values.reshape(-1, 1)\n",
    "    \n",
    "    # właściwe trenowanie modelu\n",
    "    m1.fit(X_train,y_train)\n",
    "    \n",
    "    # otrzymane wartości współczynników kierunkowych\n",
    "    print('a =',m1.coef_)\n",
    "    print('b =',m1.intercept_)\n",
    "    \n",
    "    # obliczanie RMSE dla zbioru testowego i trenującego\n",
    "    h_train = m1.predict(X_train)\n",
    "    X_test = r_test[column_name].values.reshape(-1, 1)\n",
    "    y_test = r_test.price.values.reshape(-1, 1)\n",
    "    h_test = m1.predict(X_test)\n",
    "    print('train RMSE = ',math.sqrt(sklearn.metrics.mean_squared_error(h_train,y_train)))\n",
    "    print('test RMSE = ',math.sqrt(sklearn.metrics.mean_squared_error(h_test,y_test)))\n",
    "    print('baseline RMSE = ', baseline_RMSE)\n",
    "    return m1"
   ]
  },
  {
   "cell_type": "code",
   "execution_count": 6,
   "metadata": {},
   "outputs": [
    {
     "name": "stdout",
     "output_type": "stream",
     "text": [
      "a = [[2995.31672446]]\n",
      "b = [195404.1026862]\n",
      "train RMSE =  152151.6481584998\n",
      "test RMSE =  112114.4717696176\n",
      "baseline RMSE =  132421.586564792\n"
     ]
    },
    {
     "name": "stderr",
     "output_type": "stream",
     "text": [
      "/Users/lukasz.knade/anaconda3/envs/html/lib/python3.6/site-packages/scipy/stats/stats.py:1713: FutureWarning: Using a non-tuple sequence for multidimensional indexing is deprecated; use `arr[tuple(seq)]` instead of `arr[seq]`. In the future this will be interpreted as an array index, `arr[np.array(seq)]`, which will result either in an error or a different result.\n",
      "  return np.add.reduce(sorted[indexer] * weights, axis=axis) / sumval\n"
     ]
    },
    {
     "data": {
      "text/plain": [
       "LinearRegression(copy_X=True, fit_intercept=True, n_jobs=None,\n",
       "         normalize=False)"
      ]
     },
     "execution_count": 6,
     "metadata": {},
     "output_type": "execute_result"
    },
    {
     "data": {
      "image/png": "[encoded data removed]",
      "text/plain": [
       "<Figure size 432x288 with 1 Axes>"
      ]
     },
     "metadata": {
      "needs_background": "light"
     },
     "output_type": "display_data"
    }
   ],
   "source": [
    "evaluate_regression('sqrMeters') # wygląda przyzwoicie, nasza intuicja znalazła potwierdzenie ;-)"
   ]
  },
  {
   "cell_type": "code",
   "execution_count": 29,
   "metadata": {},
   "outputs": [
    {
     "name": "stdout",
     "output_type": "stream",
     "text": [
      "a = [[-3618.65691543]]\n",
      "b = [378911.19689417]\n",
      "train RMSE =  166041.8595446293\n",
      "test RMSE =  139177.83751899822\n",
      "baseline RMSE =  140017.58836228\n"
     ]
    },
    {
     "data": {
      "text/plain": [
       "LinearRegression(copy_X=True, fit_intercept=True, n_jobs=1, normalize=False)"
      ]
     },
     "execution_count": 29,
     "metadata": {},
     "output_type": "execute_result"
    },
    {
     "data": {
      "image/png": "[encoded data removed]",
      "text/plain": [
       "<matplotlib.figure.Figure at 0x10bcce710>"
      ]
     },
     "metadata": {},
     "output_type": "display_data"
    }
   ],
   "source": [
    "evaluate_regression('floor') # tu RMSE jest większy, więc gorszy wynik"
   ]
  },
  {
   "cell_type": "code",
   "execution_count": 30,
   "metadata": {
    "scrolled": true
   },
   "outputs": [
    {
     "name": "stdout",
     "output_type": "stream",
     "text": [
      "a = [[108016.05696833]]\n",
      "b = [77148.62183233]\n",
      "train RMSE =  143813.90615821714\n",
      "test RMSE =  114205.87508999096\n",
      "baseline RMSE =  140017.58836228\n"
     ]
    },
    {
     "data": {
      "text/plain": [
       "LinearRegression(copy_X=True, fit_intercept=True, n_jobs=1, normalize=False)"
      ]
     },
     "execution_count": 30,
     "metadata": {},
     "output_type": "execute_result"
    },
    {
     "data": {
      "image/png": "[encoded data removed]",
      "text/plain": [
       "<matplotlib.figure.Figure at 0x10cd0f898>"
      ]
     },
     "metadata": {},
     "output_type": "display_data"
    }
   ],
   "source": [
    "evaluate_regression('rooms') # ilość pokoi ma większy wpływ - RMSE jest mniejsze"
   ]
  },
  {
   "cell_type": "code",
   "execution_count": 31,
   "metadata": {},
   "outputs": [
    {
     "name": "stdout",
     "output_type": "stream",
     "text": [
      "a = [[12148.75852539]]\n",
      "b = [359177.85234848]\n",
      "train RMSE =  166302.48065583926\n",
      "test RMSE =  139771.38189432852\n",
      "baseline RMSE =  140017.58836228\n"
     ]
    },
    {
     "data": {
      "text/plain": [
       "LinearRegression(copy_X=True, fit_intercept=True, n_jobs=1, normalize=False)"
      ]
     },
     "execution_count": 31,
     "metadata": {},
     "output_type": "execute_result"
    },
    {
     "data": {
      "image/png": "[encoded data removed]",
      "text/plain": [
       "<matplotlib.figure.Figure at 0x10be819b0>"
      ]
     },
     "metadata": {},
     "output_type": "display_data"
    }
   ],
   "source": [
    "# jak widać można używać cechy jakościowej binarnej\n",
    "evaluate_regression('isNew')\n",
    "# tutaj wynik jest kiepski"
   ]
  },
  {
   "cell_type": "markdown",
   "metadata": {},
   "source": [
    "# Ex. 1\n",
    "\n",
    "Jaką cene będzie miało według modelu opartego o liczbę pokoi mieszkanie, które ma 7 pokoi?"
   ]
  },
  {
   "cell_type": "code",
   "execution_count": 7,
   "metadata": {},
   "outputs": [
    {
     "name": "stdout",
     "output_type": "stream",
     "text": [
      "[[848173.18497544]]\n"
     ]
    }
   ],
   "source": [
    "# ?\n",
    "regr = sklearn.linear_model.LinearRegression()\n",
    "X_train = r_train['rooms'].values.reshape(-1, 1)\n",
    "y_train = r_train.price.values.reshape(-1, 1)\n",
    "regr.fit(X_train,y_train)\n",
    "\n",
    "print(regr.predict([[7]]))"
   ]
  },
  {
   "cell_type": "markdown",
   "metadata": {},
   "source": [
    "### Jakich cech możemy używać?\n",
    "\n",
    "**Zmienne ilościowe ciągłe (np. metry kw, długość) i dyskretne (np. liczba pokoi, liczba dzieci)** sa ok. Dla **zmiennej ilościowej porządkowej (np. wykształcenie, ocena w szkole, godzina wystapienia zdarzenia)** model będzie dawał jakiś wynik (choć niekoniecznie formalnie poprawne jest jego użycie, gdyż założenie liniowości nie będzie spełnione).\n",
    "\n",
    "\n",
    "**Zmienne jakościowe binarne** sa ok (jak widać wyżej)\n",
    "\n",
    "\n",
    "**Zmiennych jakościowe o więcej niz 2 klasach** nie wrzucamy do modelu tak po prostu (a nawet jeżeli byśmy chcieli, to w jakiej kolejnosci np. zmapować religie na integery i jaką dostaniemy informację z modelu?)\n",
    "\n",
    "\n",
    "Zmienne jakościowe możemy:\n",
    "* usunać z modelu\n",
    "* stworzyć tyle modeli ile jest kombinacji zmiennych jakościowych\n",
    "* użyć one hot encoding (o tym później)"
   ]
  },
  {
   "cell_type": "markdown",
   "metadata": {},
   "source": [
    "### Jakie wybrać cechy\n",
    "\n",
    "Oczywiście takie, które dają najmniejszy RMSE. Najlepsze będą cechy skorelowane liniwo:"
   ]
  },
  {
   "cell_type": "code",
   "execution_count": 32,
   "metadata": {
    "scrolled": true
   },
   "outputs": [
    {
     "data": {
      "text/html": [
       "<div>\n",
       "<style scoped>\n",
       "    .dataframe tbody tr th:only-of-type {\n",
       "        vertical-align: middle;\n",
       "    }\n",
       "\n",
       "    .dataframe tbody tr th {\n",
       "        vertical-align: top;\n",
       "    }\n",
       "\n",
       "    .dataframe thead th {\n",
       "        text-align: right;\n",
       "    }\n",
       "</style>\n",
       "<table border=\"1\" class=\"dataframe\">\n",
       "  <thead>\n",
       "    <tr style=\"text-align: right;\">\n",
       "      <th></th>\n",
       "      <th>price</th>\n",
       "      <th>isNew</th>\n",
       "      <th>rooms</th>\n",
       "      <th>floor</th>\n",
       "      <th>sqrMetres</th>\n",
       "    </tr>\n",
       "  </thead>\n",
       "  <tbody>\n",
       "    <tr>\n",
       "      <th>price</th>\n",
       "      <td>1.000000</td>\n",
       "      <td>0.034873</td>\n",
       "      <td>0.508833</td>\n",
       "      <td>-0.068882</td>\n",
       "      <td>0.422073</td>\n",
       "    </tr>\n",
       "    <tr>\n",
       "      <th>isNew</th>\n",
       "      <td>0.034873</td>\n",
       "      <td>1.000000</td>\n",
       "      <td>0.008730</td>\n",
       "      <td>-0.062179</td>\n",
       "      <td>0.083835</td>\n",
       "    </tr>\n",
       "    <tr>\n",
       "      <th>rooms</th>\n",
       "      <td>0.508833</td>\n",
       "      <td>0.008730</td>\n",
       "      <td>1.000000</td>\n",
       "      <td>-0.078585</td>\n",
       "      <td>0.377587</td>\n",
       "    </tr>\n",
       "    <tr>\n",
       "      <th>floor</th>\n",
       "      <td>-0.068882</td>\n",
       "      <td>-0.062179</td>\n",
       "      <td>-0.078585</td>\n",
       "      <td>1.000000</td>\n",
       "      <td>-0.055053</td>\n",
       "    </tr>\n",
       "    <tr>\n",
       "      <th>sqrMetres</th>\n",
       "      <td>0.422073</td>\n",
       "      <td>0.083835</td>\n",
       "      <td>0.377587</td>\n",
       "      <td>-0.055053</td>\n",
       "      <td>1.000000</td>\n",
       "    </tr>\n",
       "  </tbody>\n",
       "</table>\n",
       "</div>"
      ],
      "text/plain": [
       "              price     isNew     rooms     floor  sqrMetres\n",
       "price      1.000000  0.034873  0.508833 -0.068882   0.422073\n",
       "isNew      0.034873  1.000000  0.008730 -0.062179   0.083835\n",
       "rooms      0.508833  0.008730  1.000000 -0.078585   0.377587\n",
       "floor     -0.068882 -0.062179 -0.078585  1.000000  -0.055053\n",
       "sqrMetres  0.422073  0.083835  0.377587 -0.055053   1.000000"
      ]
     },
     "execution_count": 32,
     "metadata": {},
     "output_type": "execute_result"
    }
   ],
   "source": [
    "r.corr() "
   ]
  },
  {
   "cell_type": "markdown",
   "metadata": {},
   "source": [
    "Jak widać **sqrMeters** ma wysoką korelację, a **liczba pokoi** jeszcze wyższą"
   ]
  },
  {
   "cell_type": "markdown",
   "metadata": {},
   "source": [
    "### Regresja wielu zmiennych\n",
    "\n",
    "Oczywiście regresja nie musi być funkcją jednej zmiennej. Może być także funkcją wielu zmiennych (np. ilości metrów kwadratowych oraz ilości pokoi. Model wygląda wtedy: $$h = a_1 * x_1 + a_2 * x_2  + b$$ i szukamy wtedy $a_1$, $a_2$, $b$.\n",
    "\n",
    "\n",
    "Dostaniemy wtedy lepszy wynik na zbiorze trenującym. Lepiej jednak nie używać nieskorelowanych liniowo cech, gdyż na zbiorze testowym raczej nie będą dawać lepszych wyników oraz komplikują model.\n",
    "\n",
    "Sprawdźmy jak będzie wyglądał model 2 zmiennych (tracimy możliwość łatwej wizualizacji):"
   ]
  },
  {
   "cell_type": "code",
   "execution_count": 10,
   "metadata": {},
   "outputs": [
    {
     "name": "stdout",
     "output_type": "stream",
     "text": [
      "a1, a2  = [ 1868.40330748 90029.72845023]\n",
      "b= [19275.18830121]\n",
      "RMSE train:  137989.4738804815\n",
      "RMSE test:  106543.20116320888\n",
      "baseline RMSE:  132421.586564792\n"
     ]
    }
   ],
   "source": [
    "features = ['sqrMeters', 'rooms']\n",
    "label = ['price']\n",
    "\n",
    "m1 = sklearn.linear_model.LinearRegression()\n",
    "X_train = r_train[features]\n",
    "y_train = r_train[label].values.reshape(-1, 1)\n",
    "\n",
    "X_test = r_test[features]\n",
    "y_test = r_test[label].values.reshape(-1, 1)\n",
    "m1.fit(X_train,y_train)\n",
    "\n",
    "h_train = m1.predict(X_train)\n",
    "h_test = m1.predict(X_test)\n",
    "print('a1, a2  =',m1.coef_[0])\n",
    "print('b=',m1.intercept_)\n",
    "\n",
    "h_train = m1.predict(X_train)\n",
    "print('RMSE train: ',math.sqrt(sklearn.metrics.mean_squared_error(h_train,y_train)))\n",
    "print('RMSE test: ',math.sqrt(sklearn.metrics.mean_squared_error(h_test,y_test)))\n",
    "print('baseline RMSE: ', baseline_RMSE)"
   ]
  },
  {
   "cell_type": "markdown",
   "metadata": {},
   "source": [
    "Jak widać RMSE jest jeszcze mniejsze.\n",
    "\n",
    "**Regresja liniowa jest bardzo czuła na obserwacje odstające.** w przypadku tego typu narzedzi jest duży sens aby normalizaowac wartosci, które wchodzą do modelu.\n",
    "\n",
    "Warto też rozważyć eliminacje danych odstających z modelu. Proste modele takie jak regresja liniowa mają ograniczoną pojemność informacyjną aby dobrze działały konieczny może być spory wysiłek jeżeli chodzi o przygotowanie danych wejściowych. \n",
    "\n",
    "Jedną z technik, które można zastosować jest **normalizacja cech**."
   ]
  },
  {
   "cell_type": "code",
   "execution_count": 11,
   "metadata": {},
   "outputs": [
    {
     "name": "stderr",
     "output_type": "stream",
     "text": [
      "/Users/lukasz.knade/anaconda3/envs/html/lib/python3.6/site-packages/sklearn/preprocessing/data.py:323: DataConversionWarning: Data with input dtype int64 were all converted to float64 by MinMaxScaler.\n",
      "  return self.partial_fit(X, y)\n"
     ]
    },
    {
     "data": {
      "text/html": [
       "<div>\n",
       "<style scoped>\n",
       "    .dataframe tbody tr th:only-of-type {\n",
       "        vertical-align: middle;\n",
       "    }\n",
       "\n",
       "    .dataframe tbody tr th {\n",
       "        vertical-align: top;\n",
       "    }\n",
       "\n",
       "    .dataframe thead th {\n",
       "        text-align: right;\n",
       "    }\n",
       "</style>\n",
       "<table border=\"1\" class=\"dataframe\">\n",
       "  <thead>\n",
       "    <tr style=\"text-align: right;\">\n",
       "      <th></th>\n",
       "      <th>sqrMeters</th>\n",
       "      <th>rooms</th>\n",
       "      <th>price</th>\n",
       "    </tr>\n",
       "  </thead>\n",
       "  <tbody>\n",
       "    <tr>\n",
       "      <th>0</th>\n",
       "      <td>0.358696</td>\n",
       "      <td>0.2</td>\n",
       "      <td>476118.0</td>\n",
       "    </tr>\n",
       "    <tr>\n",
       "      <th>1</th>\n",
       "      <td>0.271739</td>\n",
       "      <td>0.2</td>\n",
       "      <td>459531.0</td>\n",
       "    </tr>\n",
       "    <tr>\n",
       "      <th>2</th>\n",
       "      <td>0.016304</td>\n",
       "      <td>0.2</td>\n",
       "      <td>411557.0</td>\n",
       "    </tr>\n",
       "    <tr>\n",
       "      <th>3</th>\n",
       "      <td>0.010870</td>\n",
       "      <td>0.4</td>\n",
       "      <td>496416.0</td>\n",
       "    </tr>\n",
       "    <tr>\n",
       "      <th>4</th>\n",
       "      <td>0.016304</td>\n",
       "      <td>0.2</td>\n",
       "      <td>406032.0</td>\n",
       "    </tr>\n",
       "  </tbody>\n",
       "</table>\n",
       "</div>"
      ],
      "text/plain": [
       "   sqrMeters  rooms     price\n",
       "0   0.358696    0.2  476118.0\n",
       "1   0.271739    0.2  459531.0\n",
       "2   0.016304    0.2  411557.0\n",
       "3   0.010870    0.4  496416.0\n",
       "4   0.016304    0.2  406032.0"
      ]
     },
     "execution_count": 11,
     "metadata": {},
     "output_type": "execute_result"
    }
   ],
   "source": [
    "# kod normalizujący\n",
    "from sklearn.preprocessing import MinMaxScaler\n",
    "\n",
    "min_max_scaler = MinMaxScaler()\n",
    "r_scaled = min_max_scaler.fit_transform(r[features]) # r_scaled to tablica\n",
    "r_normalized = pd.DataFrame(r_scaled) #tworzymy df'a\n",
    "r_normalized.columns = features\n",
    "r_normalized[\"price\"] = r['price']\n",
    "r_normalized.head()"
   ]
  },
  {
   "cell_type": "markdown",
   "metadata": {},
   "source": [
    "**Ex. 2**\n",
    "Czy normalizacja ma pozytywny wpływ na skuteczność działania modelu w tym przypadku? "
   ]
  },
  {
   "cell_type": "code",
   "execution_count": 45,
   "metadata": {},
   "outputs": [],
   "source": [
    "# TBD"
   ]
  },
  {
   "cell_type": "markdown",
   "metadata": {},
   "source": [
    "### Cechy regresji liniowej\n",
    "\n",
    "#### Zakłada liniowość zmiennej zależnej względem zmiennej/zmiennych niezależnych\n",
    "Nie zawsze jest to założenie zgodne z rzeczywistością (np. na drugim rysunku widać korelację kwadratową, a nie liniową:\n",
    "\n",
    "![przed skalowaniem](ml_introduction_pictures/anscombe.png)\n",
    "\n",
    "Oczywiście jako modelu możemy użyć także funkcji kwadratowej, logarytmicznej, dowolnego wielomianu wielu zmiennych (zależy od danych)\n",
    "\n",
    "\n",
    "#### Ze zmiennymi jakościowymi musimy się trochę pomęczyć (uwaga wyżej)\n",
    "\n",
    "#### Regresja jest podstawą działania sieci neuronowych (sieć neuronowa tak naprawdę składa się z wielu regresji)\n",
    "\n",
    "\n",
    "#### Nie musimy minimaliować akurat RMSE\n",
    "Może to być tez po np. odległość absolutna: $$ \\frac{1}{m} \\sum_{i = 1}^{m} \\| \\left( h^{(i)} - y^{(i)} \\right) \\|$$"
   ]
  },
  {
   "cell_type": "markdown",
   "metadata": {},
   "source": [
    "#### ZADANIE: Zrób wszystkie ćwiczenia z tego arkusza ze zbiorem ceny_aut_w_polsce.tsv, w szczególnosci:\n",
    "\n",
    "* znajdź cechę która daje najlepszy wynik, wylicz dla niej RMSE i narysuj wykres\n",
    "* to samo z 2 cechami\n",
    "* to samo ze wszystkimi cechami\n",
    "\n",
    "**Ten zbiór jest o wiele większy, więc wyniki będą bardziej stabilne**"
   ]
  },
  {
   "cell_type": "code",
   "execution_count": 47,
   "metadata": {},
   "outputs": [],
   "source": [
    "# To jest dobry zbiór na projekt na koniec dnia"
   ]
  },
  {
   "cell_type": "code",
   "execution_count": null,
   "metadata": {},
   "outputs": [],
   "source": []
  }
 ],
 "metadata": {
  "kernelspec": {
   "display_name": "Python 3",
   "language": "python",
   "name": "python3"
  },
  "language_info": {
   "codemirror_mode": {
    "name": "ipython",
    "version": 3
   },
   "file_extension": ".py",
   "mimetype": "text/x-python",
   "name": "python",
   "nbconvert_exporter": "python",
   "pygments_lexer": "ipython3",
   "version": "3.6.7"
  }
 },
 "nbformat": 4,
 "nbformat_minor": 2
}
