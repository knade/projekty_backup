{
 "cells": [
  {
   "cell_type": "markdown",
   "metadata": {},
   "source": [
    "# Wczytujemy dane z pliku\n",
    "\n",
    "Zbiór to prawdziwe ceny mieszkań w Poznaniu zescrappowane z portalu gratka \n"
   ]
  },
  {
   "cell_type": "code",
   "execution_count": 2,
   "metadata": {},
   "outputs": [],
   "source": [
    "import pandas as pd\n",
    "import matplotlib.pyplot as plt\n",
    "import seaborn as sns\n",
    "import numpy as np\n",
    "%matplotlib inline  "
   ]
  },
  {
   "cell_type": "code",
   "execution_count": 3,
   "metadata": {},
   "outputs": [],
   "source": [
    "r = pd.read_csv('ceny_mieszkan_w_poznaniu.tsv', sep = '\\t')"
   ]
  },
  {
   "cell_type": "markdown",
   "metadata": {},
   "source": [
    "# Oglądamy wstępnie dane"
   ]
  },
  {
   "cell_type": "code",
   "execution_count": 4,
   "metadata": {},
   "outputs": [
    {
     "data": {
      "text/plain": [
       "Index(['price', 'isNew', 'rooms', 'floor', 'location', 'sqrMeters'], dtype='object')"
      ]
     },
     "execution_count": 4,
     "metadata": {},
     "output_type": "execute_result"
    }
   ],
   "source": [
    "r.columns"
   ]
  },
  {
   "cell_type": "code",
   "execution_count": 5,
   "metadata": {
    "scrolled": true
   },
   "outputs": [
    {
     "data": {
      "text/plain": [
       "(1674, 6)"
      ]
     },
     "execution_count": 5,
     "metadata": {},
     "output_type": "execute_result"
    }
   ],
   "source": [
    "r.shape"
   ]
  },
  {
   "cell_type": "code",
   "execution_count": 6,
   "metadata": {
    "scrolled": true
   },
   "outputs": [
    {
     "data": {
      "text/plain": [
       "Grunwald        303\n",
       "Winogrady       217\n",
       "Rataje          164\n",
       "Jeżyce          138\n",
       "Stare           128\n",
       "Centrum         116\n",
       "Nowe             92\n",
       "Piątkowo         76\n",
       "Wilda            75\n",
       "Naramowice       69\n",
       "Starołęka        45\n",
       "Podolany         41\n",
       "Łazarz           34\n",
       "Dębiec           32\n",
       "Górczyn          31\n",
       "Sołacz           21\n",
       "Głuszyna         13\n",
       "Szczepankowo     12\n",
       "Ogrody            8\n",
       "Malta             7\n",
       "Winiary           5\n",
       "Śródka            5\n",
       "Zawady            5\n",
       "Chwaliszewo       4\n",
       "Bonin             3\n",
       "Antoninek         3\n",
       "Plewiska          3\n",
       "Świerczewo        3\n",
       "Garbary           3\n",
       "Strzeszyn         2\n",
       "Żegrze            2\n",
       "Dolna             2\n",
       "Ławica            1\n",
       "Komandoria        1\n",
       "Wilczak           1\n",
       "Suchy             1\n",
       "Kobylepole        1\n",
       "Nadolnik          1\n",
       "Komorniki         1\n",
       "Kopernika         1\n",
       "Dąbrowskiego      1\n",
       "Morasko           1\n",
       "Smochowice        1\n",
       "Piatkowo          1\n",
       "Name: location, dtype: int64"
      ]
     },
     "execution_count": 6,
     "metadata": {},
     "output_type": "execute_result"
    }
   ],
   "source": [
    "r.location.value_counts()"
   ]
  },
  {
   "cell_type": "code",
   "execution_count": 7,
   "metadata": {},
   "outputs": [
    {
     "data": {
      "text/plain": [
       "price        float64\n",
       "isNew           bool\n",
       "rooms          int64\n",
       "floor          int64\n",
       "location      object\n",
       "sqrMeters      int64\n",
       "dtype: object"
      ]
     },
     "execution_count": 7,
     "metadata": {},
     "output_type": "execute_result"
    }
   ],
   "source": [
    "r.dtypes"
   ]
  },
  {
   "cell_type": "markdown",
   "metadata": {},
   "source": [
    "## Dane (typy danych/zmienne w statystyce) na przykładach\n",
    "### Cena, ilośc m. kw. = zmienna ilościowa ciągła \n",
    "\n",
    "Przestrzeń liczb rzeczywistych (albo podzbiór ciągły)\n",
    "\n",
    "tak samo np. zarobki, długośc w metrach, waga\n",
    "\n",
    "\n",
    "### Ilość pokoi, piętro = zmienna ilościowa dyskretna\n",
    "\n",
    "możemy uporządkować, skończona ilość, \n",
    "\n",
    "można powiedzieć że 4 pokoje to dwa razy więcej niż 2 pokoje\n",
    "\n",
    "np. ocena w skali 1-10 (co 1), ilość dzieci\n",
    "\n",
    "\n",
    "### zmienna ilościowa porządkowa ( w tym zbiorze nie ma)\n",
    "\n",
    "można uporządkować (np wykształcenie), ale nie możemy powiedzieć że coś jest ileś razy większe\n",
    "\n",
    "np. wykształcenie wyższe nie jest 2 razy bardziej od wykształcenia średniego\n",
    "\n",
    "### lokacja = zmienna jakościowa (kategoryczna)\n",
    "\n",
    "nie możemy uporządkować (bo nie można powiedzieć że Stare Miasto jest przed Sołaczem)\n",
    "\n",
    "tak samo płeć albo wyznawana religia"
   ]
  },
  {
   "cell_type": "code",
   "execution_count": 8,
   "metadata": {},
   "outputs": [
    {
     "data": {
      "text/html": [
       "<div>\n",
       "<style scoped>\n",
       "    .dataframe tbody tr th:only-of-type {\n",
       "        vertical-align: middle;\n",
       "    }\n",
       "\n",
       "    .dataframe tbody tr th {\n",
       "        vertical-align: top;\n",
       "    }\n",
       "\n",
       "    .dataframe thead th {\n",
       "        text-align: right;\n",
       "    }\n",
       "</style>\n",
       "<table border=\"1\" class=\"dataframe\">\n",
       "  <thead>\n",
       "    <tr style=\"text-align: right;\">\n",
       "      <th></th>\n",
       "      <th>count</th>\n",
       "      <th>mean</th>\n",
       "      <th>std</th>\n",
       "      <th>min</th>\n",
       "      <th>25%</th>\n",
       "      <th>50%</th>\n",
       "      <th>75%</th>\n",
       "      <th>max</th>\n",
       "    </tr>\n",
       "  </thead>\n",
       "  <tbody>\n",
       "    <tr>\n",
       "      <th>price</th>\n",
       "      <td>1674.0</td>\n",
       "      <td>367281.254283</td>\n",
       "      <td>163980.312648</td>\n",
       "      <td>100000.0</td>\n",
       "      <td>280062.5</td>\n",
       "      <td>330127.5</td>\n",
       "      <td>399000.0</td>\n",
       "      <td>2700000.0</td>\n",
       "    </tr>\n",
       "    <tr>\n",
       "      <th>rooms</th>\n",
       "      <td>1674.0</td>\n",
       "      <td>2.684588</td>\n",
       "      <td>0.775238</td>\n",
       "      <td>2.0</td>\n",
       "      <td>2.0</td>\n",
       "      <td>3.0</td>\n",
       "      <td>3.0</td>\n",
       "      <td>7.0</td>\n",
       "    </tr>\n",
       "    <tr>\n",
       "      <th>floor</th>\n",
       "      <td>1674.0</td>\n",
       "      <td>2.989247</td>\n",
       "      <td>2.950053</td>\n",
       "      <td>0.0</td>\n",
       "      <td>1.0</td>\n",
       "      <td>2.0</td>\n",
       "      <td>4.0</td>\n",
       "      <td>16.0</td>\n",
       "    </tr>\n",
       "    <tr>\n",
       "      <th>sqrMeters</th>\n",
       "      <td>1674.0</td>\n",
       "      <td>57.877539</td>\n",
       "      <td>23.091438</td>\n",
       "      <td>12.0</td>\n",
       "      <td>44.0</td>\n",
       "      <td>54.0</td>\n",
       "      <td>71.0</td>\n",
       "      <td>196.0</td>\n",
       "    </tr>\n",
       "  </tbody>\n",
       "</table>\n",
       "</div>"
      ],
      "text/plain": [
       "            count           mean            std       min       25%       50%  \\\n",
       "price      1674.0  367281.254283  163980.312648  100000.0  280062.5  330127.5   \n",
       "rooms      1674.0       2.684588       0.775238       2.0       2.0       3.0   \n",
       "floor      1674.0       2.989247       2.950053       0.0       1.0       2.0   \n",
       "sqrMeters  1674.0      57.877539      23.091438      12.0      44.0      54.0   \n",
       "\n",
       "                75%        max  \n",
       "price      399000.0  2700000.0  \n",
       "rooms           3.0        7.0  \n",
       "floor           4.0       16.0  \n",
       "sqrMeters      71.0      196.0  "
      ]
     },
     "execution_count": 8,
     "metadata": {},
     "output_type": "execute_result"
    }
   ],
   "source": [
    "r.describe().T"
   ]
  },
  {
   "cell_type": "code",
   "execution_count": 9,
   "metadata": {},
   "outputs": [
    {
     "data": {
      "text/html": [
       "<div>\n",
       "<style scoped>\n",
       "    .dataframe tbody tr th:only-of-type {\n",
       "        vertical-align: middle;\n",
       "    }\n",
       "\n",
       "    .dataframe tbody tr th {\n",
       "        vertical-align: top;\n",
       "    }\n",
       "\n",
       "    .dataframe thead th {\n",
       "        text-align: right;\n",
       "    }\n",
       "</style>\n",
       "<table border=\"1\" class=\"dataframe\">\n",
       "  <thead>\n",
       "    <tr style=\"text-align: right;\">\n",
       "      <th></th>\n",
       "      <th>price</th>\n",
       "      <th>isNew</th>\n",
       "      <th>rooms</th>\n",
       "      <th>floor</th>\n",
       "      <th>location</th>\n",
       "      <th>sqrMeters</th>\n",
       "    </tr>\n",
       "  </thead>\n",
       "  <tbody>\n",
       "    <tr>\n",
       "      <th>0</th>\n",
       "      <td>476118.0</td>\n",
       "      <td>False</td>\n",
       "      <td>3</td>\n",
       "      <td>1</td>\n",
       "      <td>Centrum</td>\n",
       "      <td>78</td>\n",
       "    </tr>\n",
       "    <tr>\n",
       "      <th>1</th>\n",
       "      <td>459531.0</td>\n",
       "      <td>False</td>\n",
       "      <td>3</td>\n",
       "      <td>2</td>\n",
       "      <td>Sołacz</td>\n",
       "      <td>62</td>\n",
       "    </tr>\n",
       "    <tr>\n",
       "      <th>2</th>\n",
       "      <td>411557.0</td>\n",
       "      <td>False</td>\n",
       "      <td>3</td>\n",
       "      <td>0</td>\n",
       "      <td>Sołacz</td>\n",
       "      <td>15</td>\n",
       "    </tr>\n",
       "    <tr>\n",
       "      <th>3</th>\n",
       "      <td>496416.0</td>\n",
       "      <td>False</td>\n",
       "      <td>4</td>\n",
       "      <td>0</td>\n",
       "      <td>Sołacz</td>\n",
       "      <td>14</td>\n",
       "    </tr>\n",
       "    <tr>\n",
       "      <th>4</th>\n",
       "      <td>406032.0</td>\n",
       "      <td>False</td>\n",
       "      <td>3</td>\n",
       "      <td>0</td>\n",
       "      <td>Sołacz</td>\n",
       "      <td>15</td>\n",
       "    </tr>\n",
       "  </tbody>\n",
       "</table>\n",
       "</div>"
      ],
      "text/plain": [
       "      price  isNew  rooms  floor location  sqrMeters\n",
       "0  476118.0  False      3      1  Centrum         78\n",
       "1  459531.0  False      3      2   Sołacz         62\n",
       "2  411557.0  False      3      0   Sołacz         15\n",
       "3  496416.0  False      4      0   Sołacz         14\n",
       "4  406032.0  False      3      0   Sołacz         15"
      ]
     },
     "execution_count": 9,
     "metadata": {},
     "output_type": "execute_result"
    }
   ],
   "source": [
    "r.head()"
   ]
  },
  {
   "cell_type": "code",
   "execution_count": 10,
   "metadata": {},
   "outputs": [
    {
     "data": {
      "text/plain": [
       "0    476118.0\n",
       "1    459531.0\n",
       "2    411557.0\n",
       "3    496416.0\n",
       "4    406032.0\n",
       "Name: price, dtype: float64"
      ]
     },
     "execution_count": 10,
     "metadata": {},
     "output_type": "execute_result"
    }
   ],
   "source": [
    "r['price'].head()"
   ]
  },
  {
   "cell_type": "markdown",
   "metadata": {},
   "source": [
    "# To teraz spróbujmy je narysować"
   ]
  },
  {
   "cell_type": "code",
   "execution_count": 11,
   "metadata": {},
   "outputs": [
    {
     "data": {
      "text/plain": [
       "<matplotlib.axes._subplots.AxesSubplot at 0x1033b4f98>"
      ]
     },
     "execution_count": 11,
     "metadata": {},
     "output_type": "execute_result"
    },
    {
     "data": {
      "image/png": "[encoded data removed]",
      "text/plain": [
       "<Figure size 432x288 with 1 Axes>"
      ]
     },
     "metadata": {
      "needs_background": "light"
     },
     "output_type": "display_data"
    }
   ],
   "source": [
    "r.plot()"
   ]
  },
  {
   "cell_type": "code",
   "execution_count": 12,
   "metadata": {},
   "outputs": [
    {
     "data": {
      "text/plain": [
       "<matplotlib.axes._subplots.AxesSubplot at 0x10403acf8>"
      ]
     },
     "execution_count": 12,
     "metadata": {},
     "output_type": "execute_result"
    },
    {
     "data": {
      "image/png": "[encoded data removed]",
      "text/plain": [
       "<Figure size 432x288 with 1 Axes>"
      ]
     },
     "metadata": {
      "needs_background": "light"
     },
     "output_type": "display_data"
    }
   ],
   "source": [
    "r['price'].plot()"
   ]
  },
  {
   "cell_type": "markdown",
   "metadata": {},
   "source": [
    "## Te dane są w porządku losowym (więc powyższe wykresy są nieczytelne). Posortujmy je"
   ]
  },
  {
   "cell_type": "code",
   "execution_count": 13,
   "metadata": {},
   "outputs": [],
   "source": [
    "r_sorted_by_price = r.sort_values(by=['price'])"
   ]
  },
  {
   "cell_type": "code",
   "execution_count": 14,
   "metadata": {},
   "outputs": [
    {
     "data": {
      "text/plain": [
       "<matplotlib.axes._subplots.AxesSubplot at 0x104070780>"
      ]
     },
     "execution_count": 14,
     "metadata": {},
     "output_type": "execute_result"
    },
    {
     "data": {
      "image/png": "[encoded data removed]",
      "text/plain": [
       "<Figure size 432x288 with 1 Axes>"
      ]
     },
     "metadata": {
      "needs_background": "light"
     },
     "output_type": "display_data"
    }
   ],
   "source": [
    "r_sorted_by_price.plot(use_index=False)"
   ]
  },
  {
   "cell_type": "markdown",
   "metadata": {},
   "source": [
    "## Cena jest wysoka, możemy wziąć cenę w dziesiątkach tysięcy dla czytelności"
   ]
  },
  {
   "cell_type": "code",
   "execution_count": 15,
   "metadata": {},
   "outputs": [
    {
     "data": {
      "text/plain": [
       "<matplotlib.axes._subplots.AxesSubplot at 0x115ffdb70>"
      ]
     },
     "execution_count": 15,
     "metadata": {},
     "output_type": "execute_result"
    },
    {
     "data": {
      "image/png": "[encoded data removed]",
      "text/plain": [
       "<Figure size 432x288 with 1 Axes>"
      ]
     },
     "metadata": {
      "needs_background": "light"
     },
     "output_type": "display_data"
    }
   ],
   "source": [
    "r_price_normalized = r_sorted_by_price.copy() # kopia przez wartość, a nie index\n",
    "r_price_normalized['price'] = r_price_normalized['price'] / 10000 # dzielenie każdego wiersza przez 10000\n",
    "r_price_normalized.plot(use_index=False)"
   ]
  },
  {
   "cell_type": "markdown",
   "metadata": {},
   "source": [
    "## Nadal średnio to wygląda, bo danych jest zbyt dużo do ogarnięcia na raz, spróbujmy inaczej, po każdej cesze z osobna:"
   ]
  },
  {
   "cell_type": "code",
   "execution_count": 16,
   "metadata": {},
   "outputs": [
    {
     "data": {
      "text/plain": [
       "<matplotlib.axes._subplots.AxesSubplot at 0x113e197f0>"
      ]
     },
     "execution_count": 16,
     "metadata": {},
     "output_type": "execute_result"
    },
    {
     "data": {
      "image/png": "[encoded data removed]",
      "text/plain": [
       "<Figure size 432x288 with 1 Axes>"
      ]
     },
     "metadata": {
      "needs_background": "light"
     },
     "output_type": "display_data"
    }
   ],
   "source": [
    "r.price.hist(bins=20) # histogram dla danych ciągłych (cena)\n",
    "# oj, widać że jest parę mieszkań (mało) bardzo drogich"
   ]
  },
  {
   "cell_type": "code",
   "execution_count": 17,
   "metadata": {},
   "outputs": [
    {
     "data": {
      "text/plain": [
       "<matplotlib.axes._subplots.AxesSubplot at 0x116258160>"
      ]
     },
     "execution_count": 17,
     "metadata": {},
     "output_type": "execute_result"
    },
    {
     "data": {
      "image/png": "[encoded data removed]",
      "text/plain": [
       "<Figure size 432x288 with 1 Axes>"
      ]
     },
     "metadata": {
      "needs_background": "light"
     },
     "output_type": "display_data"
    }
   ],
   "source": [
    "r.price.plot.box() # boxplot, jak widać mamy sporo odstających obserwacji!"
   ]
  },
  {
   "cell_type": "code",
   "execution_count": 18,
   "metadata": {},
   "outputs": [
    {
     "data": {
      "text/plain": [
       "<matplotlib.axes._subplots.AxesSubplot at 0x11630f390>"
      ]
     },
     "execution_count": 18,
     "metadata": {},
     "output_type": "execute_result"
    },
    {
     "data": {
      "image/png": "[encoded data removed]",
      "text/plain": [
       "<Figure size 432x288 with 1 Axes>"
      ]
     },
     "metadata": {
      "needs_background": "light"
     },
     "output_type": "display_data"
    }
   ],
   "source": [
    "# Załóżmy, że chcemy się pozbyć obserwacji z cenami powyżej 99 percentyla:\n",
    "r_price_cleared = r[r.price < r.price.quantile(0.99)]\n",
    "r_price_cleared.price.plot.box() # tu już nie ma takiej rozbieżności"
   ]
  },
  {
   "cell_type": "markdown",
   "metadata": {},
   "source": [
    "**Ćwiczenie**\n",
    "\n",
    "Narysuj histogram cen mieszkań na podstawie df'a r_price_cleared"
   ]
  },
  {
   "cell_type": "code",
   "execution_count": 19,
   "metadata": {},
   "outputs": [
    {
     "data": {
      "text/plain": [
       "<matplotlib.axes._subplots.AxesSubplot at 0x1162fb8d0>"
      ]
     },
     "execution_count": 19,
     "metadata": {},
     "output_type": "execute_result"
    },
    {
     "data": {
      "image/png": "[encoded data removed]",
      "text/plain": [
       "<Figure size 432x288 with 1 Axes>"
      ]
     },
     "metadata": {
      "needs_background": "light"
     },
     "output_type": "display_data"
    }
   ],
   "source": [
    "r_price_cleared.price.hist(bins=20)"
   ]
  },
  {
   "cell_type": "code",
   "execution_count": 26,
   "metadata": {},
   "outputs": [
    {
     "data": {
      "text/plain": [
       "<matplotlib.axes._subplots.AxesSubplot at 0x1163c1be0>"
      ]
     },
     "execution_count": 26,
     "metadata": {},
     "output_type": "execute_result"
    },
    {
     "data": {
      "image/png": "[encoded data removed]",
      "text/plain": [
       "<Figure size 432x288 with 1 Axes>"
      ]
     },
     "metadata": {
      "needs_background": "light"
     },
     "output_type": "display_data"
    }
   ],
   "source": [
    "r.rooms.value_counts().plot.bar() # barplot dla danych dyskretnych (ilość pokoi)"
   ]
  },
  {
   "cell_type": "code",
   "execution_count": 16,
   "metadata": {},
   "outputs": [
    {
     "data": {
      "text/plain": [
       "<matplotlib.axes._subplots.AxesSubplot at 0x119451908>"
      ]
     },
     "execution_count": 16,
     "metadata": {},
     "output_type": "execute_result"
    },
    {
     "data": {
      "image/png": "[encoded data removed]",
      "text/plain": [
       "<Figure size 432x288 with 1 Axes>"
      ]
     },
     "metadata": {
      "needs_background": "light"
     },
     "output_type": "display_data"
    }
   ],
   "source": [
    "r.sqrMeters.plot.density()"
   ]
  },
  {
   "cell_type": "code",
   "execution_count": 29,
   "metadata": {},
   "outputs": [
    {
     "data": {
      "text/plain": [
       "<matplotlib.axes._subplots.AxesSubplot at 0x1a23079f60>"
      ]
     },
     "execution_count": 29,
     "metadata": {},
     "output_type": "execute_result"
    },
    {
     "data": {
      "image/png": "[encoded data removed]",
      "text/plain": [
       "<Figure size 432x288 with 1 Axes>"
      ]
     },
     "metadata": {},
     "output_type": "display_data"
    }
   ],
   "source": [
    "r.isNew.value_counts().plot.pie()"
   ]
  },
  {
   "cell_type": "code",
   "execution_count": 30,
   "metadata": {},
   "outputs": [
    {
     "data": {
      "text/plain": [
       "<matplotlib.axes._subplots.AxesSubplot at 0x1a231280f0>"
      ]
     },
     "execution_count": 30,
     "metadata": {},
     "output_type": "execute_result"
    },
    {
     "data": {
      "image/png": "[encoded data removed]",
      "text/plain": [
       "<Figure size 432x288 with 1 Axes>"
      ]
     },
     "metadata": {},
     "output_type": "display_data"
    }
   ],
   "source": [
    "r.location.value_counts().plot.pie()"
   ]
  },
  {
   "cell_type": "markdown",
   "metadata": {},
   "source": [
    "# Pobawmy się jeszcze samymi danymi dzięki pandasowi"
   ]
  },
  {
   "cell_type": "code",
   "execution_count": 27,
   "metadata": {},
   "outputs": [
    {
     "data": {
      "text/html": [
       "<div>\n",
       "<style scoped>\n",
       "    .dataframe tbody tr th:only-of-type {\n",
       "        vertical-align: middle;\n",
       "    }\n",
       "\n",
       "    .dataframe tbody tr th {\n",
       "        vertical-align: top;\n",
       "    }\n",
       "\n",
       "    .dataframe thead th {\n",
       "        text-align: right;\n",
       "    }\n",
       "</style>\n",
       "<table border=\"1\" class=\"dataframe\">\n",
       "  <thead>\n",
       "    <tr style=\"text-align: right;\">\n",
       "      <th></th>\n",
       "      <th>price</th>\n",
       "      <th>sqrMeters</th>\n",
       "    </tr>\n",
       "  </thead>\n",
       "  <tbody>\n",
       "    <tr>\n",
       "      <th>0</th>\n",
       "      <td>476118.0</td>\n",
       "      <td>78</td>\n",
       "    </tr>\n",
       "    <tr>\n",
       "      <th>1</th>\n",
       "      <td>459531.0</td>\n",
       "      <td>62</td>\n",
       "    </tr>\n",
       "    <tr>\n",
       "      <th>2</th>\n",
       "      <td>411557.0</td>\n",
       "      <td>15</td>\n",
       "    </tr>\n",
       "    <tr>\n",
       "      <th>3</th>\n",
       "      <td>496416.0</td>\n",
       "      <td>14</td>\n",
       "    </tr>\n",
       "    <tr>\n",
       "      <th>4</th>\n",
       "      <td>406032.0</td>\n",
       "      <td>15</td>\n",
       "    </tr>\n",
       "  </tbody>\n",
       "</table>\n",
       "</div>"
      ],
      "text/plain": [
       "      price  sqrMeters\n",
       "0  476118.0         78\n",
       "1  459531.0         62\n",
       "2  411557.0         15\n",
       "3  496416.0         14\n",
       "4  406032.0         15"
      ]
     },
     "execution_count": 27,
     "metadata": {},
     "output_type": "execute_result"
    }
   ],
   "source": [
    "r_price_sqrMeters = pd.DataFrame(r, columns=['price','sqrMeters']) # zrób data frame z 2 kolumn\n",
    "r_price_sqrMeters.head()"
   ]
  },
  {
   "cell_type": "markdown",
   "metadata": {},
   "source": [
    "**Ćwiczenie**\n",
    "\n",
    "Pokaż najtańsze mieszkanie."
   ]
  },
  {
   "cell_type": "code",
   "execution_count": 35,
   "metadata": {},
   "outputs": [
    {
     "data": {
      "text/html": [
       "<div>\n",
       "<style scoped>\n",
       "    .dataframe tbody tr th:only-of-type {\n",
       "        vertical-align: middle;\n",
       "    }\n",
       "\n",
       "    .dataframe tbody tr th {\n",
       "        vertical-align: top;\n",
       "    }\n",
       "\n",
       "    .dataframe thead th {\n",
       "        text-align: right;\n",
       "    }\n",
       "</style>\n",
       "<table border=\"1\" class=\"dataframe\">\n",
       "  <thead>\n",
       "    <tr style=\"text-align: right;\">\n",
       "      <th></th>\n",
       "      <th>price</th>\n",
       "      <th>isNew</th>\n",
       "      <th>rooms</th>\n",
       "      <th>floor</th>\n",
       "      <th>location</th>\n",
       "      <th>sqrMeters</th>\n",
       "    </tr>\n",
       "  </thead>\n",
       "  <tbody>\n",
       "    <tr>\n",
       "      <th>339</th>\n",
       "      <td>100000.0</td>\n",
       "      <td>True</td>\n",
       "      <td>3</td>\n",
       "      <td>4</td>\n",
       "      <td>Stare</td>\n",
       "      <td>70</td>\n",
       "    </tr>\n",
       "  </tbody>\n",
       "</table>\n",
       "</div>"
      ],
      "text/plain": [
       "        price  isNew  rooms  floor location  sqrMeters\n",
       "339  100000.0   True      3      4    Stare         70"
      ]
     },
     "execution_count": 35,
     "metadata": {},
     "output_type": "execute_result"
    }
   ],
   "source": [
    "r[r['price'] == min(r['price'])]"
   ]
  },
  {
   "cell_type": "markdown",
   "metadata": {},
   "source": [
    "**Ćwiczenie**\n",
    "\n",
    "pokaż tylko mieszkania używane powyżej 1kk"
   ]
  },
  {
   "cell_type": "code",
   "execution_count": 39,
   "metadata": {
    "scrolled": true
   },
   "outputs": [
    {
     "data": {
      "text/html": [
       "<div>\n",
       "<style scoped>\n",
       "    .dataframe tbody tr th:only-of-type {\n",
       "        vertical-align: middle;\n",
       "    }\n",
       "\n",
       "    .dataframe tbody tr th {\n",
       "        vertical-align: top;\n",
       "    }\n",
       "\n",
       "    .dataframe thead th {\n",
       "        text-align: right;\n",
       "    }\n",
       "</style>\n",
       "<table border=\"1\" class=\"dataframe\">\n",
       "  <thead>\n",
       "    <tr style=\"text-align: right;\">\n",
       "      <th></th>\n",
       "      <th>price</th>\n",
       "      <th>isNew</th>\n",
       "      <th>rooms</th>\n",
       "      <th>floor</th>\n",
       "      <th>location</th>\n",
       "      <th>sqrMeters</th>\n",
       "    </tr>\n",
       "  </thead>\n",
       "  <tbody>\n",
       "    <tr>\n",
       "      <th>344</th>\n",
       "      <td>1200000.0</td>\n",
       "      <td>False</td>\n",
       "      <td>5</td>\n",
       "      <td>0</td>\n",
       "      <td>Starołęka</td>\n",
       "      <td>193</td>\n",
       "    </tr>\n",
       "    <tr>\n",
       "      <th>1123</th>\n",
       "      <td>1007500.0</td>\n",
       "      <td>False</td>\n",
       "      <td>4</td>\n",
       "      <td>1</td>\n",
       "      <td>Starołęka</td>\n",
       "      <td>94</td>\n",
       "    </tr>\n",
       "    <tr>\n",
       "      <th>1124</th>\n",
       "      <td>1203616.0</td>\n",
       "      <td>False</td>\n",
       "      <td>5</td>\n",
       "      <td>0</td>\n",
       "      <td>Starołęka</td>\n",
       "      <td>71</td>\n",
       "    </tr>\n",
       "    <tr>\n",
       "      <th>1188</th>\n",
       "      <td>1156054.0</td>\n",
       "      <td>False</td>\n",
       "      <td>4</td>\n",
       "      <td>0</td>\n",
       "      <td>Stare</td>\n",
       "      <td>52</td>\n",
       "    </tr>\n",
       "    <tr>\n",
       "      <th>1376</th>\n",
       "      <td>1156054.0</td>\n",
       "      <td>False</td>\n",
       "      <td>4</td>\n",
       "      <td>0</td>\n",
       "      <td>Stare</td>\n",
       "      <td>52</td>\n",
       "    </tr>\n",
       "  </tbody>\n",
       "</table>\n",
       "</div>"
      ],
      "text/plain": [
       "          price  isNew  rooms  floor   location  sqrMeters\n",
       "344   1200000.0  False      5      0  Starołęka        193\n",
       "1123  1007500.0  False      4      1  Starołęka         94\n",
       "1124  1203616.0  False      5      0  Starołęka         71\n",
       "1188  1156054.0  False      4      0      Stare         52\n",
       "1376  1156054.0  False      4      0      Stare         52"
      ]
     },
     "execution_count": 39,
     "metadata": {},
     "output_type": "execute_result"
    }
   ],
   "source": [
    "# r[(r['price'] > 1000000) & (~r['isNew'])]\n",
    "r[(r['price'] > 1000000) & (r['isNew'] == False)]"
   ]
  },
  {
   "cell_type": "code",
   "execution_count": 40,
   "metadata": {},
   "outputs": [
    {
     "data": {
      "text/plain": [
       "0    476\n",
       "1    459\n",
       "2    411\n",
       "3    496\n",
       "4    406\n",
       "Name: price_in_thousands, dtype: int64"
      ]
     },
     "execution_count": 40,
     "metadata": {},
     "output_type": "execute_result"
    }
   ],
   "source": [
    "r['price_in_thousands'] = (r['price'] / 1000).astype(int) # dodaj nową kolumnę\n",
    "r['price_in_thousands'].head()"
   ]
  },
  {
   "cell_type": "code",
   "execution_count": 41,
   "metadata": {},
   "outputs": [
    {
     "data": {
      "text/plain": [
       "0    476\n",
       "1    459\n",
       "2    411\n",
       "3    496\n",
       "4    406\n",
       "Name: price_in_thousands2, dtype: int64"
      ]
     },
     "execution_count": 41,
     "metadata": {},
     "output_type": "execute_result"
    }
   ],
   "source": [
    "r['price_in_thousands2'] = r.price.apply(lambda x: int(x / 1000) ) # można tez tak\n",
    "r['price_in_thousands2'].head()"
   ]
  },
  {
   "cell_type": "code",
   "execution_count": 42,
   "metadata": {
    "scrolled": true
   },
   "outputs": [
    {
     "data": {
      "text/plain": [
       "0    476\n",
       "1    459\n",
       "2    411\n",
       "3    496\n",
       "4    406\n",
       "Name: price_in_thousands3, dtype: int64"
      ]
     },
     "execution_count": 42,
     "metadata": {},
     "output_type": "execute_result"
    }
   ],
   "source": [
    "r['price_in_thousands3'] = r.price.map(lambda x: int(x / 1000) ) # albo tak\n",
    "r['price_in_thousands3'].head()"
   ]
  },
  {
   "cell_type": "code",
   "execution_count": 43,
   "metadata": {},
   "outputs": [
    {
     "data": {
      "text/plain": [
       "1000000.0"
      ]
     },
     "execution_count": 43,
     "metadata": {},
     "output_type": "execute_result"
    }
   ],
   "source": [
    "r_max_price = r.copy()\n",
    "r_max_price.price = r_max_price.price.map(lambda x: 1000000 if x > 1000000 else x) \n",
    "# dla cen mieszkań powyżej 1kk zmień cenę na 1kk\n",
    "r_max_price.price.max()"
   ]
  },
  {
   "cell_type": "markdown",
   "metadata": {},
   "source": [
    "# Spróbujemy znaleźć jakies zależnosci i je zwizualizować \n",
    "(wizualizacja dzięki bibliotece seaborn)"
   ]
  },
  {
   "cell_type": "markdown",
   "metadata": {},
   "source": [
    "**Ćwiczenie**\n",
    "\n",
    "Do zmiennej r wczytaj zawartość pliku ceny_mieszkan_w_poznaniu.tsv"
   ]
  },
  {
   "cell_type": "code",
   "execution_count": 44,
   "metadata": {},
   "outputs": [],
   "source": [
    "#r = "
   ]
  },
  {
   "cell_type": "code",
   "execution_count": 45,
   "metadata": {},
   "outputs": [
    {
     "name": "stderr",
     "output_type": "stream",
     "text": [
      "/Users/lukasz.knade/anaconda3/envs/html/lib/python3.6/site-packages/scipy/stats/stats.py:1713: FutureWarning: Using a non-tuple sequence for multidimensional indexing is deprecated; use `arr[tuple(seq)]` instead of `arr[seq]`. In the future this will be interpreted as an array index, `arr[np.array(seq)]`, which will result either in an error or a different result.\n",
      "  return np.add.reduce(sorted[indexer] * weights, axis=axis) / sumval\n"
     ]
    },
    {
     "data": {
      "text/plain": [
       "<seaborn.axisgrid.JointGrid at 0x11684cbe0>"
      ]
     },
     "execution_count": 45,
     "metadata": {},
     "output_type": "execute_result"
    },
    {
     "data": {
      "image/png": "[encoded data removed]",
      "text/plain": [
       "<Figure size 432x432 with 3 Axes>"
      ]
     },
     "metadata": {
      "needs_background": "light"
     },
     "output_type": "display_data"
    }
   ],
   "source": [
    "sns.jointplot(x = \"sqrMeters\", y = \"price\", data = r)"
   ]
  },
  {
   "cell_type": "code",
   "execution_count": 53,
   "metadata": {},
   "outputs": [
    {
     "data": {
      "text/plain": [
       "<seaborn.axisgrid.JointGrid at 0x11760ba20>"
      ]
     },
     "execution_count": 53,
     "metadata": {},
     "output_type": "execute_result"
    },
    {
     "data": {
      "image/png": "[encoded data removed]",
      "text/plain": [
       "<Figure size 432x432 with 3 Axes>"
      ]
     },
     "metadata": {
      "needs_background": "light"
     },
     "output_type": "display_data"
    }
   ],
   "source": [
    "sns.jointplot(\"sqrMeters\", \"price\", kind = \"hex\", data = r) # tak jest czytelniej"
   ]
  },
  {
   "cell_type": "code",
   "execution_count": 47,
   "metadata": {},
   "outputs": [
    {
     "data": {
      "text/html": [
       "<div>\n",
       "<style scoped>\n",
       "    .dataframe tbody tr th:only-of-type {\n",
       "        vertical-align: middle;\n",
       "    }\n",
       "\n",
       "    .dataframe tbody tr th {\n",
       "        vertical-align: top;\n",
       "    }\n",
       "\n",
       "    .dataframe thead th {\n",
       "        text-align: right;\n",
       "    }\n",
       "</style>\n",
       "<table border=\"1\" class=\"dataframe\">\n",
       "  <thead>\n",
       "    <tr style=\"text-align: right;\">\n",
       "      <th></th>\n",
       "      <th>price</th>\n",
       "      <th>isNew</th>\n",
       "      <th>rooms</th>\n",
       "      <th>floor</th>\n",
       "      <th>sqrMeters</th>\n",
       "      <th>price_in_thousands</th>\n",
       "      <th>price_in_thousands2</th>\n",
       "      <th>price_in_thousands3</th>\n",
       "    </tr>\n",
       "  </thead>\n",
       "  <tbody>\n",
       "    <tr>\n",
       "      <th>price</th>\n",
       "      <td>1.000000</td>\n",
       "      <td>0.034873</td>\n",
       "      <td>0.508833</td>\n",
       "      <td>-0.068882</td>\n",
       "      <td>0.422073</td>\n",
       "      <td>0.999998</td>\n",
       "      <td>0.999998</td>\n",
       "      <td>0.999998</td>\n",
       "    </tr>\n",
       "    <tr>\n",
       "      <th>isNew</th>\n",
       "      <td>0.034873</td>\n",
       "      <td>1.000000</td>\n",
       "      <td>0.008730</td>\n",
       "      <td>-0.062179</td>\n",
       "      <td>0.083835</td>\n",
       "      <td>0.035770</td>\n",
       "      <td>0.035770</td>\n",
       "      <td>0.035770</td>\n",
       "    </tr>\n",
       "    <tr>\n",
       "      <th>rooms</th>\n",
       "      <td>0.508833</td>\n",
       "      <td>0.008730</td>\n",
       "      <td>1.000000</td>\n",
       "      <td>-0.078585</td>\n",
       "      <td>0.377587</td>\n",
       "      <td>0.508950</td>\n",
       "      <td>0.508950</td>\n",
       "      <td>0.508950</td>\n",
       "    </tr>\n",
       "    <tr>\n",
       "      <th>floor</th>\n",
       "      <td>-0.068882</td>\n",
       "      <td>-0.062179</td>\n",
       "      <td>-0.078585</td>\n",
       "      <td>1.000000</td>\n",
       "      <td>-0.055053</td>\n",
       "      <td>-0.068947</td>\n",
       "      <td>-0.068947</td>\n",
       "      <td>-0.068947</td>\n",
       "    </tr>\n",
       "    <tr>\n",
       "      <th>sqrMeters</th>\n",
       "      <td>0.422073</td>\n",
       "      <td>0.083835</td>\n",
       "      <td>0.377587</td>\n",
       "      <td>-0.055053</td>\n",
       "      <td>1.000000</td>\n",
       "      <td>0.422251</td>\n",
       "      <td>0.422251</td>\n",
       "      <td>0.422251</td>\n",
       "    </tr>\n",
       "    <tr>\n",
       "      <th>price_in_thousands</th>\n",
       "      <td>0.999998</td>\n",
       "      <td>0.035770</td>\n",
       "      <td>0.508950</td>\n",
       "      <td>-0.068947</td>\n",
       "      <td>0.422251</td>\n",
       "      <td>1.000000</td>\n",
       "      <td>1.000000</td>\n",
       "      <td>1.000000</td>\n",
       "    </tr>\n",
       "    <tr>\n",
       "      <th>price_in_thousands2</th>\n",
       "      <td>0.999998</td>\n",
       "      <td>0.035770</td>\n",
       "      <td>0.508950</td>\n",
       "      <td>-0.068947</td>\n",
       "      <td>0.422251</td>\n",
       "      <td>1.000000</td>\n",
       "      <td>1.000000</td>\n",
       "      <td>1.000000</td>\n",
       "    </tr>\n",
       "    <tr>\n",
       "      <th>price_in_thousands3</th>\n",
       "      <td>0.999998</td>\n",
       "      <td>0.035770</td>\n",
       "      <td>0.508950</td>\n",
       "      <td>-0.068947</td>\n",
       "      <td>0.422251</td>\n",
       "      <td>1.000000</td>\n",
       "      <td>1.000000</td>\n",
       "      <td>1.000000</td>\n",
       "    </tr>\n",
       "  </tbody>\n",
       "</table>\n",
       "</div>"
      ],
      "text/plain": [
       "                        price     isNew     rooms     floor  sqrMeters  \\\n",
       "price                1.000000  0.034873  0.508833 -0.068882   0.422073   \n",
       "isNew                0.034873  1.000000  0.008730 -0.062179   0.083835   \n",
       "rooms                0.508833  0.008730  1.000000 -0.078585   0.377587   \n",
       "floor               -0.068882 -0.062179 -0.078585  1.000000  -0.055053   \n",
       "sqrMeters            0.422073  0.083835  0.377587 -0.055053   1.000000   \n",
       "price_in_thousands   0.999998  0.035770  0.508950 -0.068947   0.422251   \n",
       "price_in_thousands2  0.999998  0.035770  0.508950 -0.068947   0.422251   \n",
       "price_in_thousands3  0.999998  0.035770  0.508950 -0.068947   0.422251   \n",
       "\n",
       "                     price_in_thousands  price_in_thousands2  \\\n",
       "price                          0.999998             0.999998   \n",
       "isNew                          0.035770             0.035770   \n",
       "rooms                          0.508950             0.508950   \n",
       "floor                         -0.068947            -0.068947   \n",
       "sqrMeters                      0.422251             0.422251   \n",
       "price_in_thousands             1.000000             1.000000   \n",
       "price_in_thousands2            1.000000             1.000000   \n",
       "price_in_thousands3            1.000000             1.000000   \n",
       "\n",
       "                     price_in_thousands3  \n",
       "price                           0.999998  \n",
       "isNew                           0.035770  \n",
       "rooms                           0.508950  \n",
       "floor                          -0.068947  \n",
       "sqrMeters                       0.422251  \n",
       "price_in_thousands              1.000000  \n",
       "price_in_thousands2             1.000000  \n",
       "price_in_thousands3             1.000000  "
      ]
     },
     "execution_count": 47,
     "metadata": {},
     "output_type": "execute_result"
    }
   ],
   "source": [
    "r.corr() # sprawdźmy korelację liniową cech\n",
    "# widać że np ilość metrów jest skorelowana dodatnio z ceną\n",
    "# potwierdza to, co widzimy na wykresach"
   ]
  },
  {
   "cell_type": "code",
   "execution_count": 50,
   "metadata": {},
   "outputs": [
    {
     "data": {
      "text/plain": [
       "<matplotlib.axes._subplots.AxesSubplot at 0x1171b72e8>"
      ]
     },
     "execution_count": 50,
     "metadata": {},
     "output_type": "execute_result"
    },
    {
     "data": {
      "image/png": "[encoded data removed]",
      "text/plain": [
       "<Figure size 432x288 with 2 Axes>"
      ]
     },
     "metadata": {
      "needs_background": "light"
     },
     "output_type": "display_data"
    }
   ],
   "source": [
    "sns.heatmap(r.corr(), )"
   ]
  },
  {
   "cell_type": "code",
   "execution_count": 55,
   "metadata": {
    "scrolled": true
   },
   "outputs": [
    {
     "data": {
      "text/plain": [
       "<matplotlib.axes._subplots.AxesSubplot at 0x117afd6d8>"
      ]
     },
     "execution_count": 55,
     "metadata": {},
     "output_type": "execute_result"
    },
    {
     "data": {
      "image/png": "[encoded data removed]",
      "text/plain": [
       "<Figure size 432x288 with 1 Axes>"
      ]
     },
     "metadata": {
      "needs_background": "light"
     },
     "output_type": "display_data"
    }
   ],
   "source": [
    "sns.regplot(r.sqrMeters, r.price) # rzeczywiście - im więcej metrów kw. tym większa cena"
   ]
  },
  {
   "cell_type": "code",
   "execution_count": 60,
   "metadata": {},
   "outputs": [
    {
     "data": {
      "text/plain": [
       "<matplotlib.axes._subplots.AxesSubplot at 0x117fa50f0>"
      ]
     },
     "execution_count": 60,
     "metadata": {},
     "output_type": "execute_result"
    },
    {
     "data": {
      "image/png": "[encoded data removed]",
      "text/plain": [
       "<Figure size 432x288 with 1 Axes>"
      ]
     },
     "metadata": {
      "needs_background": "light"
     },
     "output_type": "display_data"
    }
   ],
   "source": [
    "sns.violinplot(x = \"isNew\", y = \"price\", data = r_max_price) # "
   ]
  },
  {
   "cell_type": "code",
   "execution_count": 63,
   "metadata": {},
   "outputs": [
    {
     "data": {
      "text/plain": [
       "<matplotlib.axes._subplots.AxesSubplot at 0x118364780>"
      ]
     },
     "execution_count": 63,
     "metadata": {},
     "output_type": "execute_result"
    },
    {
     "data": {
      "image/png": "[encoded data removed]",
      "text/plain": [
       "<Figure size 432x288 with 1 Axes>"
      ]
     },
     "metadata": {
      "needs_background": "light"
     },
     "output_type": "display_data"
    }
   ],
   "source": [
    "# ceny w zależności od lokacji (dla 5 najbardziej popularnych)\n",
    "popular_locations = r.location.value_counts().head(5)\n",
    "r_popular_locations = r[r.location.isin(popular_locations.keys())]\n",
    "sns.boxplot(x = \"location\", y = \"price\", data = r_popular_locations) "
   ]
  },
  {
   "cell_type": "code",
   "execution_count": 61,
   "metadata": {},
   "outputs": [
    {
     "data": {
      "text/plain": [
       "<matplotlib.axes._subplots.AxesSubplot at 0x1180ed390>"
      ]
     },
     "execution_count": 61,
     "metadata": {},
     "output_type": "execute_result"
    },
    {
     "data": {
      "image/png": "[encoded data removed]",
      "text/plain": [
       "<Figure size 432x288 with 1 Axes>"
      ]
     },
     "metadata": {
      "needs_background": "light"
     },
     "output_type": "display_data"
    }
   ],
   "source": [
    "sns.boxplot(x=\"rooms\", y = \"price\", data = r) # im więcej pokoi tym cena większa"
   ]
  },
  {
   "cell_type": "code",
   "execution_count": 62,
   "metadata": {},
   "outputs": [
    {
     "data": {
      "text/plain": [
       "<matplotlib.axes._subplots.AxesSubplot at 0x118206f28>"
      ]
     },
     "execution_count": 62,
     "metadata": {},
     "output_type": "execute_result"
    },
    {
     "data": {
      "image/png": "[encoded data removed]",
      "text/plain": [
       "<Figure size 432x288 with 1 Axes>"
      ]
     },
     "metadata": {
      "needs_background": "light"
     },
     "output_type": "display_data"
    }
   ],
   "source": [
    "sns.boxplot(x=\"rooms\", y = \"price\", hue = \"isNew\", data = r) \n",
    "# im więcej pokoi tym cena większa"
   ]
  },
  {
   "cell_type": "code",
   "execution_count": 48,
   "metadata": {},
   "outputs": [
    {
     "data": {
      "text/plain": [
       "<matplotlib.axes._subplots.AxesSubplot at 0x1a23271d30>"
      ]
     },
     "execution_count": 48,
     "metadata": {},
     "output_type": "execute_result"
    },
    {
     "data": {
      "image/png": "[encoded data removed]",
      "text/plain": [
       "<Figure size 432x288 with 1 Axes>"
      ]
     },
     "metadata": {
      "needs_background": "light"
     },
     "output_type": "display_data"
    }
   ],
   "source": [
    "sns.countplot(x = \"floor\", data = r_popular_locations) \n",
    "# ten barplot jest bardziej kolorowy niż ten z pandasa :)"
   ]
  },
  {
   "cell_type": "code",
   "execution_count": 49,
   "metadata": {},
   "outputs": [
    {
     "data": {
      "text/plain": [
       "<matplotlib.axes._subplots.AxesSubplot at 0x1a240e15f8>"
      ]
     },
     "execution_count": 49,
     "metadata": {},
     "output_type": "execute_result"
    },
    {
     "data": {
      "image/png": "[encoded data removed]",
      "text/plain": [
       "<Figure size 432x288 with 1 Axes>"
      ]
     },
     "metadata": {
      "needs_background": "light"
     },
     "output_type": "display_data"
    }
   ],
   "source": [
    "sns.countplot(x = \"floor\", hue = \"isNew\", data = r_popular_locations)"
   ]
  },
  {
   "cell_type": "code",
   "execution_count": 46,
   "metadata": {},
   "outputs": [
    {
     "data": {
      "text/html": [
       "<div>\n",
       "<style scoped>\n",
       "    .dataframe tbody tr th:only-of-type {\n",
       "        vertical-align: middle;\n",
       "    }\n",
       "\n",
       "    .dataframe tbody tr th {\n",
       "        vertical-align: top;\n",
       "    }\n",
       "\n",
       "    .dataframe thead th {\n",
       "        text-align: right;\n",
       "    }\n",
       "</style>\n",
       "<table border=\"1\" class=\"dataframe\">\n",
       "  <thead>\n",
       "    <tr style=\"text-align: right;\">\n",
       "      <th></th>\n",
       "      <th>price</th>\n",
       "      <th>mileage</th>\n",
       "      <th>year</th>\n",
       "      <th>brand</th>\n",
       "      <th>engingeType</th>\n",
       "      <th>engineCapacity</th>\n",
       "    </tr>\n",
       "  </thead>\n",
       "  <tbody>\n",
       "    <tr>\n",
       "      <th>0</th>\n",
       "      <td>92000</td>\n",
       "      <td>75600</td>\n",
       "      <td>2012</td>\n",
       "      <td>Volvo</td>\n",
       "      <td>benzyna</td>\n",
       "      <td>3200</td>\n",
       "    </tr>\n",
       "    <tr>\n",
       "      <th>1</th>\n",
       "      <td>49300</td>\n",
       "      <td>21000</td>\n",
       "      <td>2016</td>\n",
       "      <td>Kia</td>\n",
       "      <td>diesel</td>\n",
       "      <td>1396</td>\n",
       "    </tr>\n",
       "    <tr>\n",
       "      <th>2</th>\n",
       "      <td>45900</td>\n",
       "      <td>66000</td>\n",
       "      <td>2015</td>\n",
       "      <td>Toyota</td>\n",
       "      <td>diesel</td>\n",
       "      <td>1400</td>\n",
       "    </tr>\n",
       "    <tr>\n",
       "      <th>3</th>\n",
       "      <td>32900</td>\n",
       "      <td>115000</td>\n",
       "      <td>2015</td>\n",
       "      <td>Skoda</td>\n",
       "      <td>diesel</td>\n",
       "      <td>1600</td>\n",
       "    </tr>\n",
       "    <tr>\n",
       "      <th>4</th>\n",
       "      <td>36900</td>\n",
       "      <td>200000</td>\n",
       "      <td>2012</td>\n",
       "      <td>Renault</td>\n",
       "      <td>diesel</td>\n",
       "      <td>2000</td>\n",
       "    </tr>\n",
       "    <tr>\n",
       "      <th>5</th>\n",
       "      <td>25900</td>\n",
       "      <td>105000</td>\n",
       "      <td>2014</td>\n",
       "      <td>Opel</td>\n",
       "      <td>diesel</td>\n",
       "      <td>1300</td>\n",
       "    </tr>\n",
       "    <tr>\n",
       "      <th>6</th>\n",
       "      <td>139900</td>\n",
       "      <td>104000</td>\n",
       "      <td>2013</td>\n",
       "      <td>Mercedes-Benz</td>\n",
       "      <td>diesel</td>\n",
       "      <td>3000</td>\n",
       "    </tr>\n",
       "    <tr>\n",
       "      <th>7</th>\n",
       "      <td>43900</td>\n",
       "      <td>53000</td>\n",
       "      <td>2015</td>\n",
       "      <td>Ford</td>\n",
       "      <td>benzyna</td>\n",
       "      <td>1000</td>\n",
       "    </tr>\n",
       "    <tr>\n",
       "      <th>8</th>\n",
       "      <td>11000</td>\n",
       "      <td>186800</td>\n",
       "      <td>2003</td>\n",
       "      <td>SEAT</td>\n",
       "      <td>diesel</td>\n",
       "      <td>1900</td>\n",
       "    </tr>\n",
       "    <tr>\n",
       "      <th>9</th>\n",
       "      <td>105000</td>\n",
       "      <td>57000</td>\n",
       "      <td>2012</td>\n",
       "      <td>Mercedes-Benz</td>\n",
       "      <td>diesel</td>\n",
       "      <td>2143</td>\n",
       "    </tr>\n",
       "    <tr>\n",
       "      <th>10</th>\n",
       "      <td>70000</td>\n",
       "      <td>174000</td>\n",
       "      <td>2010</td>\n",
       "      <td>Mercedes-Benz</td>\n",
       "      <td>diesel</td>\n",
       "      <td>3500</td>\n",
       "    </tr>\n",
       "    <tr>\n",
       "      <th>11</th>\n",
       "      <td>52900</td>\n",
       "      <td>71500</td>\n",
       "      <td>2013</td>\n",
       "      <td>Toyota</td>\n",
       "      <td>benzyna</td>\n",
       "      <td>1798</td>\n",
       "    </tr>\n",
       "    <tr>\n",
       "      <th>12</th>\n",
       "      <td>70000</td>\n",
       "      <td>10500</td>\n",
       "      <td>2016</td>\n",
       "      <td>Ford</td>\n",
       "      <td>benzyna</td>\n",
       "      <td>1500</td>\n",
       "    </tr>\n",
       "    <tr>\n",
       "      <th>13</th>\n",
       "      <td>7900</td>\n",
       "      <td>276000</td>\n",
       "      <td>2005</td>\n",
       "      <td>Ford</td>\n",
       "      <td>diesel</td>\n",
       "      <td>1998</td>\n",
       "    </tr>\n",
       "    <tr>\n",
       "      <th>14</th>\n",
       "      <td>29500</td>\n",
       "      <td>78000</td>\n",
       "      <td>2006</td>\n",
       "      <td>Suzuki</td>\n",
       "      <td>benzyna</td>\n",
       "      <td>1995</td>\n",
       "    </tr>\n",
       "    <tr>\n",
       "      <th>15</th>\n",
       "      <td>18900</td>\n",
       "      <td>218000</td>\n",
       "      <td>2010</td>\n",
       "      <td>Skoda</td>\n",
       "      <td>diesel</td>\n",
       "      <td>1896</td>\n",
       "    </tr>\n",
       "    <tr>\n",
       "      <th>16</th>\n",
       "      <td>11900</td>\n",
       "      <td>211000</td>\n",
       "      <td>2004</td>\n",
       "      <td>Ford</td>\n",
       "      <td>diesel</td>\n",
       "      <td>1560</td>\n",
       "    </tr>\n",
       "    <tr>\n",
       "      <th>17</th>\n",
       "      <td>11900</td>\n",
       "      <td>211000</td>\n",
       "      <td>2004</td>\n",
       "      <td>Ford</td>\n",
       "      <td>diesel</td>\n",
       "      <td>1560</td>\n",
       "    </tr>\n",
       "    <tr>\n",
       "      <th>18</th>\n",
       "      <td>13000</td>\n",
       "      <td>240000</td>\n",
       "      <td>2007</td>\n",
       "      <td>Mazda</td>\n",
       "      <td>diesel</td>\n",
       "      <td>2000</td>\n",
       "    </tr>\n",
       "    <tr>\n",
       "      <th>19</th>\n",
       "      <td>25500</td>\n",
       "      <td>15000</td>\n",
       "      <td>2015</td>\n",
       "      <td>Volkswagen</td>\n",
       "      <td>benzyna</td>\n",
       "      <td>999</td>\n",
       "    </tr>\n",
       "    <tr>\n",
       "      <th>20</th>\n",
       "      <td>31000</td>\n",
       "      <td>258000</td>\n",
       "      <td>2007</td>\n",
       "      <td>Audi</td>\n",
       "      <td>diesel</td>\n",
       "      <td>2000</td>\n",
       "    </tr>\n",
       "    <tr>\n",
       "      <th>21</th>\n",
       "      <td>119900</td>\n",
       "      <td>207000</td>\n",
       "      <td>2010</td>\n",
       "      <td>Audi</td>\n",
       "      <td>diesel</td>\n",
       "      <td>3000</td>\n",
       "    </tr>\n",
       "    <tr>\n",
       "      <th>22</th>\n",
       "      <td>42800</td>\n",
       "      <td>82254</td>\n",
       "      <td>2011</td>\n",
       "      <td>Hyundai</td>\n",
       "      <td>benzyna</td>\n",
       "      <td>1600</td>\n",
       "    </tr>\n",
       "    <tr>\n",
       "      <th>23</th>\n",
       "      <td>12900</td>\n",
       "      <td>115000</td>\n",
       "      <td>2009</td>\n",
       "      <td>Citroen</td>\n",
       "      <td>diesel</td>\n",
       "      <td>1400</td>\n",
       "    </tr>\n",
       "    <tr>\n",
       "      <th>24</th>\n",
       "      <td>28600</td>\n",
       "      <td>204115</td>\n",
       "      <td>2009</td>\n",
       "      <td>Ford</td>\n",
       "      <td>diesel</td>\n",
       "      <td>1997</td>\n",
       "    </tr>\n",
       "    <tr>\n",
       "      <th>25</th>\n",
       "      <td>70900</td>\n",
       "      <td>125500</td>\n",
       "      <td>2009</td>\n",
       "      <td>Audi</td>\n",
       "      <td>benzyna</td>\n",
       "      <td>4200</td>\n",
       "    </tr>\n",
       "    <tr>\n",
       "      <th>26</th>\n",
       "      <td>23000</td>\n",
       "      <td>193000</td>\n",
       "      <td>2007</td>\n",
       "      <td>Toyota</td>\n",
       "      <td>diesel</td>\n",
       "      <td>1998</td>\n",
       "    </tr>\n",
       "    <tr>\n",
       "      <th>27</th>\n",
       "      <td>12000</td>\n",
       "      <td>160000</td>\n",
       "      <td>2006</td>\n",
       "      <td>Nissan</td>\n",
       "      <td>diesel</td>\n",
       "      <td>1461</td>\n",
       "    </tr>\n",
       "    <tr>\n",
       "      <th>28</th>\n",
       "      <td>17000</td>\n",
       "      <td>178000</td>\n",
       "      <td>2006</td>\n",
       "      <td>Audi</td>\n",
       "      <td>benzyna</td>\n",
       "      <td>1600</td>\n",
       "    </tr>\n",
       "    <tr>\n",
       "      <th>29</th>\n",
       "      <td>6000</td>\n",
       "      <td>50000</td>\n",
       "      <td>2001</td>\n",
       "      <td>Renault</td>\n",
       "      <td>diesel</td>\n",
       "      <td>1970</td>\n",
       "    </tr>\n",
       "    <tr>\n",
       "      <th>...</th>\n",
       "      <td>...</td>\n",
       "      <td>...</td>\n",
       "      <td>...</td>\n",
       "      <td>...</td>\n",
       "      <td>...</td>\n",
       "      <td>...</td>\n",
       "    </tr>\n",
       "    <tr>\n",
       "      <th>47972</th>\n",
       "      <td>28800</td>\n",
       "      <td>82125</td>\n",
       "      <td>2012</td>\n",
       "      <td>Volkswagen</td>\n",
       "      <td>benzyna</td>\n",
       "      <td>1200</td>\n",
       "    </tr>\n",
       "    <tr>\n",
       "      <th>47973</th>\n",
       "      <td>53400</td>\n",
       "      <td>11247</td>\n",
       "      <td>2014</td>\n",
       "      <td>Skoda</td>\n",
       "      <td>benzyna</td>\n",
       "      <td>1798</td>\n",
       "    </tr>\n",
       "    <tr>\n",
       "      <th>47974</th>\n",
       "      <td>72900</td>\n",
       "      <td>48000</td>\n",
       "      <td>2013</td>\n",
       "      <td>Skoda</td>\n",
       "      <td>diesel</td>\n",
       "      <td>2000</td>\n",
       "    </tr>\n",
       "    <tr>\n",
       "      <th>47975</th>\n",
       "      <td>48600</td>\n",
       "      <td>12075</td>\n",
       "      <td>2013</td>\n",
       "      <td>Nissan</td>\n",
       "      <td>diesel</td>\n",
       "      <td>1461</td>\n",
       "    </tr>\n",
       "    <tr>\n",
       "      <th>47976</th>\n",
       "      <td>20800</td>\n",
       "      <td>241319</td>\n",
       "      <td>2010</td>\n",
       "      <td>Peugeot</td>\n",
       "      <td>diesel</td>\n",
       "      <td>1560</td>\n",
       "    </tr>\n",
       "    <tr>\n",
       "      <th>47977</th>\n",
       "      <td>7450</td>\n",
       "      <td>172417</td>\n",
       "      <td>1999</td>\n",
       "      <td>SEAT</td>\n",
       "      <td>benzyna</td>\n",
       "      <td>1600</td>\n",
       "    </tr>\n",
       "    <tr>\n",
       "      <th>47978</th>\n",
       "      <td>3900</td>\n",
       "      <td>133000</td>\n",
       "      <td>2000</td>\n",
       "      <td>Smart</td>\n",
       "      <td>benzyna</td>\n",
       "      <td>600</td>\n",
       "    </tr>\n",
       "    <tr>\n",
       "      <th>47979</th>\n",
       "      <td>24000</td>\n",
       "      <td>257397</td>\n",
       "      <td>2009</td>\n",
       "      <td>Citroen</td>\n",
       "      <td>diesel</td>\n",
       "      <td>1997</td>\n",
       "    </tr>\n",
       "    <tr>\n",
       "      <th>47980</th>\n",
       "      <td>25800</td>\n",
       "      <td>90801</td>\n",
       "      <td>2006</td>\n",
       "      <td>Suzuki</td>\n",
       "      <td>benzyna</td>\n",
       "      <td>1995</td>\n",
       "    </tr>\n",
       "    <tr>\n",
       "      <th>47981</th>\n",
       "      <td>99900</td>\n",
       "      <td>1850</td>\n",
       "      <td>2013</td>\n",
       "      <td>Mercedes-Benz</td>\n",
       "      <td>benzyna</td>\n",
       "      <td>3498</td>\n",
       "    </tr>\n",
       "    <tr>\n",
       "      <th>47982</th>\n",
       "      <td>27900</td>\n",
       "      <td>119571</td>\n",
       "      <td>2012</td>\n",
       "      <td>Citroen</td>\n",
       "      <td>diesel</td>\n",
       "      <td>1560</td>\n",
       "    </tr>\n",
       "    <tr>\n",
       "      <th>47983</th>\n",
       "      <td>5999</td>\n",
       "      <td>221000</td>\n",
       "      <td>2004</td>\n",
       "      <td>Peugeot</td>\n",
       "      <td>diesel</td>\n",
       "      <td>2000</td>\n",
       "    </tr>\n",
       "    <tr>\n",
       "      <th>47984</th>\n",
       "      <td>14900</td>\n",
       "      <td>166544</td>\n",
       "      <td>2005</td>\n",
       "      <td>Volkswagen</td>\n",
       "      <td>benzyna</td>\n",
       "      <td>1595</td>\n",
       "    </tr>\n",
       "    <tr>\n",
       "      <th>47985</th>\n",
       "      <td>12900</td>\n",
       "      <td>240000</td>\n",
       "      <td>2005</td>\n",
       "      <td>Peugeot</td>\n",
       "      <td>diesel</td>\n",
       "      <td>1560</td>\n",
       "    </tr>\n",
       "    <tr>\n",
       "      <th>47986</th>\n",
       "      <td>6000</td>\n",
       "      <td>225000</td>\n",
       "      <td>2000</td>\n",
       "      <td>Opel</td>\n",
       "      <td>diesel</td>\n",
       "      <td>2172</td>\n",
       "    </tr>\n",
       "    <tr>\n",
       "      <th>47987</th>\n",
       "      <td>37000</td>\n",
       "      <td>285000</td>\n",
       "      <td>2007</td>\n",
       "      <td>Volkswagen</td>\n",
       "      <td>diesel</td>\n",
       "      <td>2967</td>\n",
       "    </tr>\n",
       "    <tr>\n",
       "      <th>47988</th>\n",
       "      <td>12900</td>\n",
       "      <td>170000</td>\n",
       "      <td>2009</td>\n",
       "      <td>Opel</td>\n",
       "      <td>diesel</td>\n",
       "      <td>1686</td>\n",
       "    </tr>\n",
       "    <tr>\n",
       "      <th>47989</th>\n",
       "      <td>11900</td>\n",
       "      <td>190000</td>\n",
       "      <td>2007</td>\n",
       "      <td>Opel</td>\n",
       "      <td>diesel</td>\n",
       "      <td>1686</td>\n",
       "    </tr>\n",
       "    <tr>\n",
       "      <th>47990</th>\n",
       "      <td>56900</td>\n",
       "      <td>99000</td>\n",
       "      <td>2012</td>\n",
       "      <td>Opel</td>\n",
       "      <td>diesel</td>\n",
       "      <td>2231</td>\n",
       "    </tr>\n",
       "    <tr>\n",
       "      <th>47991</th>\n",
       "      <td>22900</td>\n",
       "      <td>100000</td>\n",
       "      <td>2012</td>\n",
       "      <td>Opel</td>\n",
       "      <td>benzyna</td>\n",
       "      <td>996</td>\n",
       "    </tr>\n",
       "    <tr>\n",
       "      <th>47992</th>\n",
       "      <td>39900</td>\n",
       "      <td>9000</td>\n",
       "      <td>2013</td>\n",
       "      <td>Opel</td>\n",
       "      <td>benzyna</td>\n",
       "      <td>1229</td>\n",
       "    </tr>\n",
       "    <tr>\n",
       "      <th>47993</th>\n",
       "      <td>109900</td>\n",
       "      <td>100</td>\n",
       "      <td>2014</td>\n",
       "      <td>Nissan</td>\n",
       "      <td>diesel</td>\n",
       "      <td>1995</td>\n",
       "    </tr>\n",
       "    <tr>\n",
       "      <th>47994</th>\n",
       "      <td>12900</td>\n",
       "      <td>180000</td>\n",
       "      <td>2006</td>\n",
       "      <td>Nissan</td>\n",
       "      <td>diesel</td>\n",
       "      <td>2184</td>\n",
       "    </tr>\n",
       "    <tr>\n",
       "      <th>47995</th>\n",
       "      <td>38900</td>\n",
       "      <td>150000</td>\n",
       "      <td>2009</td>\n",
       "      <td>Nissan</td>\n",
       "      <td>diesel</td>\n",
       "      <td>1995</td>\n",
       "    </tr>\n",
       "    <tr>\n",
       "      <th>47996</th>\n",
       "      <td>55900</td>\n",
       "      <td>4800</td>\n",
       "      <td>2014</td>\n",
       "      <td>Nissan</td>\n",
       "      <td>benzyna</td>\n",
       "      <td>1298</td>\n",
       "    </tr>\n",
       "    <tr>\n",
       "      <th>47997</th>\n",
       "      <td>27900</td>\n",
       "      <td>49000</td>\n",
       "      <td>2011</td>\n",
       "      <td>MINI</td>\n",
       "      <td>benzyna</td>\n",
       "      <td>1598</td>\n",
       "    </tr>\n",
       "    <tr>\n",
       "      <th>47998</th>\n",
       "      <td>25900</td>\n",
       "      <td>255000</td>\n",
       "      <td>2004</td>\n",
       "      <td>Mercedes-Benz</td>\n",
       "      <td>diesel</td>\n",
       "      <td>2148</td>\n",
       "    </tr>\n",
       "    <tr>\n",
       "      <th>47999</th>\n",
       "      <td>12900</td>\n",
       "      <td>220000</td>\n",
       "      <td>2005</td>\n",
       "      <td>Mercedes-Benz</td>\n",
       "      <td>diesel</td>\n",
       "      <td>1689</td>\n",
       "    </tr>\n",
       "    <tr>\n",
       "      <th>48000</th>\n",
       "      <td>13900</td>\n",
       "      <td>234000</td>\n",
       "      <td>2002</td>\n",
       "      <td>Mercedes-Benz</td>\n",
       "      <td>diesel</td>\n",
       "      <td>2148</td>\n",
       "    </tr>\n",
       "    <tr>\n",
       "      <th>48001</th>\n",
       "      <td>45900</td>\n",
       "      <td>190000</td>\n",
       "      <td>2007</td>\n",
       "      <td>Mercedes-Benz</td>\n",
       "      <td>diesel</td>\n",
       "      <td>2987</td>\n",
       "    </tr>\n",
       "  </tbody>\n",
       "</table>\n",
       "<p>48002 rows × 6 columns</p>\n",
       "</div>"
      ],
      "text/plain": [
       "        price  mileage  year          brand engingeType  engineCapacity\n",
       "0       92000    75600  2012          Volvo     benzyna            3200\n",
       "1       49300    21000  2016            Kia      diesel            1396\n",
       "2       45900    66000  2015         Toyota      diesel            1400\n",
       "3       32900   115000  2015          Skoda      diesel            1600\n",
       "4       36900   200000  2012        Renault      diesel            2000\n",
       "5       25900   105000  2014           Opel      diesel            1300\n",
       "6      139900   104000  2013  Mercedes-Benz      diesel            3000\n",
       "7       43900    53000  2015           Ford     benzyna            1000\n",
       "8       11000   186800  2003           SEAT      diesel            1900\n",
       "9      105000    57000  2012  Mercedes-Benz      diesel            2143\n",
       "10      70000   174000  2010  Mercedes-Benz      diesel            3500\n",
       "11      52900    71500  2013         Toyota     benzyna            1798\n",
       "12      70000    10500  2016           Ford     benzyna            1500\n",
       "13       7900   276000  2005           Ford      diesel            1998\n",
       "14      29500    78000  2006         Suzuki     benzyna            1995\n",
       "15      18900   218000  2010          Skoda      diesel            1896\n",
       "16      11900   211000  2004           Ford      diesel            1560\n",
       "17      11900   211000  2004           Ford      diesel            1560\n",
       "18      13000   240000  2007          Mazda      diesel            2000\n",
       "19      25500    15000  2015     Volkswagen     benzyna             999\n",
       "20      31000   258000  2007           Audi      diesel            2000\n",
       "21     119900   207000  2010           Audi      diesel            3000\n",
       "22      42800    82254  2011        Hyundai     benzyna            1600\n",
       "23      12900   115000  2009        Citroen      diesel            1400\n",
       "24      28600   204115  2009           Ford      diesel            1997\n",
       "25      70900   125500  2009           Audi     benzyna            4200\n",
       "26      23000   193000  2007         Toyota      diesel            1998\n",
       "27      12000   160000  2006         Nissan      diesel            1461\n",
       "28      17000   178000  2006           Audi     benzyna            1600\n",
       "29       6000    50000  2001        Renault      diesel            1970\n",
       "...       ...      ...   ...            ...         ...             ...\n",
       "47972   28800    82125  2012     Volkswagen     benzyna            1200\n",
       "47973   53400    11247  2014          Skoda     benzyna            1798\n",
       "47974   72900    48000  2013          Skoda      diesel            2000\n",
       "47975   48600    12075  2013         Nissan      diesel            1461\n",
       "47976   20800   241319  2010        Peugeot      diesel            1560\n",
       "47977    7450   172417  1999           SEAT     benzyna            1600\n",
       "47978    3900   133000  2000          Smart     benzyna             600\n",
       "47979   24000   257397  2009        Citroen      diesel            1997\n",
       "47980   25800    90801  2006         Suzuki     benzyna            1995\n",
       "47981   99900     1850  2013  Mercedes-Benz     benzyna            3498\n",
       "47982   27900   119571  2012        Citroen      diesel            1560\n",
       "47983    5999   221000  2004        Peugeot      diesel            2000\n",
       "47984   14900   166544  2005     Volkswagen     benzyna            1595\n",
       "47985   12900   240000  2005        Peugeot      diesel            1560\n",
       "47986    6000   225000  2000           Opel      diesel            2172\n",
       "47987   37000   285000  2007     Volkswagen      diesel            2967\n",
       "47988   12900   170000  2009           Opel      diesel            1686\n",
       "47989   11900   190000  2007           Opel      diesel            1686\n",
       "47990   56900    99000  2012           Opel      diesel            2231\n",
       "47991   22900   100000  2012           Opel     benzyna             996\n",
       "47992   39900     9000  2013           Opel     benzyna            1229\n",
       "47993  109900      100  2014         Nissan      diesel            1995\n",
       "47994   12900   180000  2006         Nissan      diesel            2184\n",
       "47995   38900   150000  2009         Nissan      diesel            1995\n",
       "47996   55900     4800  2014         Nissan     benzyna            1298\n",
       "47997   27900    49000  2011           MINI     benzyna            1598\n",
       "47998   25900   255000  2004  Mercedes-Benz      diesel            2148\n",
       "47999   12900   220000  2005  Mercedes-Benz      diesel            1689\n",
       "48000   13900   234000  2002  Mercedes-Benz      diesel            2148\n",
       "48001   45900   190000  2007  Mercedes-Benz      diesel            2987\n",
       "\n",
       "[48002 rows x 6 columns]"
      ]
     },
     "execution_count": 46,
     "metadata": {},
     "output_type": "execute_result"
    }
   ],
   "source": [
    "# ZADANIE STWÓRZ NOTEBOOKA I DOKONAJ PODOBNEJ ANALIZY DLA ceny_aut_w_polsce.tsv\n",
    "\n",
    "auto = pd.read_csv('ceny_aut_w_polsce.tsv', sep = '\\t')\n",
    "auto"
   ]
  },
  {
   "cell_type": "code",
   "execution_count": 48,
   "metadata": {},
   "outputs": [
    {
     "data": {
      "text/html": [
       "<div>\n",
       "<style scoped>\n",
       "    .dataframe tbody tr th:only-of-type {\n",
       "        vertical-align: middle;\n",
       "    }\n",
       "\n",
       "    .dataframe tbody tr th {\n",
       "        vertical-align: top;\n",
       "    }\n",
       "\n",
       "    .dataframe thead th {\n",
       "        text-align: right;\n",
       "    }\n",
       "</style>\n",
       "<table border=\"1\" class=\"dataframe\">\n",
       "  <thead>\n",
       "    <tr style=\"text-align: right;\">\n",
       "      <th></th>\n",
       "      <th>count</th>\n",
       "      <th>mean</th>\n",
       "      <th>std</th>\n",
       "      <th>min</th>\n",
       "      <th>25%</th>\n",
       "      <th>50%</th>\n",
       "      <th>75%</th>\n",
       "      <th>max</th>\n",
       "    </tr>\n",
       "  </thead>\n",
       "  <tbody>\n",
       "    <tr>\n",
       "      <th>price</th>\n",
       "      <td>48002.0</td>\n",
       "      <td>37803.583809</td>\n",
       "      <td>45473.115007</td>\n",
       "      <td>550.0</td>\n",
       "      <td>12900.0</td>\n",
       "      <td>23900.0</td>\n",
       "      <td>44900.0</td>\n",
       "      <td>499900.0</td>\n",
       "    </tr>\n",
       "    <tr>\n",
       "      <th>mileage</th>\n",
       "      <td>48002.0</td>\n",
       "      <td>142920.244156</td>\n",
       "      <td>89157.842544</td>\n",
       "      <td>1.0</td>\n",
       "      <td>82000.0</td>\n",
       "      <td>150000.0</td>\n",
       "      <td>197828.0</td>\n",
       "      <td>2413650.0</td>\n",
       "    </tr>\n",
       "    <tr>\n",
       "      <th>year</th>\n",
       "      <td>48002.0</td>\n",
       "      <td>2008.351298</td>\n",
       "      <td>5.629245</td>\n",
       "      <td>1927.0</td>\n",
       "      <td>2005.0</td>\n",
       "      <td>2008.0</td>\n",
       "      <td>2013.0</td>\n",
       "      <td>2017.0</td>\n",
       "    </tr>\n",
       "    <tr>\n",
       "      <th>engineCapacity</th>\n",
       "      <td>48002.0</td>\n",
       "      <td>1818.395942</td>\n",
       "      <td>590.021590</td>\n",
       "      <td>220.0</td>\n",
       "      <td>1500.0</td>\n",
       "      <td>1796.0</td>\n",
       "      <td>2000.0</td>\n",
       "      <td>8200.0</td>\n",
       "    </tr>\n",
       "  </tbody>\n",
       "</table>\n",
       "</div>"
      ],
      "text/plain": [
       "                  count           mean           std     min      25%  \\\n",
       "price           48002.0   37803.583809  45473.115007   550.0  12900.0   \n",
       "mileage         48002.0  142920.244156  89157.842544     1.0  82000.0   \n",
       "year            48002.0    2008.351298      5.629245  1927.0   2005.0   \n",
       "engineCapacity  48002.0    1818.395942    590.021590   220.0   1500.0   \n",
       "\n",
       "                     50%       75%        max  \n",
       "price            23900.0   44900.0   499900.0  \n",
       "mileage         150000.0  197828.0  2413650.0  \n",
       "year              2008.0    2013.0     2017.0  \n",
       "engineCapacity    1796.0    2000.0     8200.0  "
      ]
     },
     "execution_count": 48,
     "metadata": {},
     "output_type": "execute_result"
    }
   ],
   "source": [
    "auto.describe().T"
   ]
  },
  {
   "cell_type": "code",
   "execution_count": null,
   "metadata": {},
   "outputs": [],
   "source": []
  }
 ],
 "metadata": {
  "kernelspec": {
   "display_name": "Python 3",
   "language": "python",
   "name": "python3"
  },
  "language_info": {
   "codemirror_mode": {
    "name": "ipython",
    "version": 3
   },
   "file_extension": ".py",
   "mimetype": "text/x-python",
   "name": "python",
   "nbconvert_exporter": "python",
   "pygments_lexer": "ipython3",
   "version": "3.6.7"
  }
 },
 "nbformat": 4,
 "nbformat_minor": 2
}
