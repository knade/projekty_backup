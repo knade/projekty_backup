{
 "cells": [
  {
   "cell_type": "code",
   "execution_count": 101,
   "metadata": {},
   "outputs": [],
   "source": [
    "import numpy as np\n",
    "import pandas as pd\n",
    "\n",
    "from sklearn.model_selection import train_test_split\n",
    "from sklearn.base import BaseEstimator, TransformerMixin\n",
    "from sklearn.pipeline import make_pipeline, make_union\n",
    "from sklearn.linear_model import LinearRegression\n",
    "from sklearn.preprocessing import FunctionTransformer, StandardScaler, OneHotEncoder\n",
    "from sklearn.decomposition import PCA\n",
    "\n",
    "from matplotlib import pyplot as plt\n",
    "\n",
    "%matplotlib inline"
   ]
  },
  {
   "cell_type": "code",
   "execution_count": 90,
   "metadata": {},
   "outputs": [],
   "source": [
    "df = pd.read_csv(\n",
    "    'ceny_aut_w_polsce.tsv', \n",
    "    sep='\\t',\n",
    "    dtype={\n",
    "        'price': np.float32,\n",
    "        'mileage': np.float32,\n",
    "        'year': np.float32,\n",
    "        'brand': str,\n",
    "        'engingeType': str,\n",
    "        'engineCapacity': np.float32,\n",
    "    },\n",
    ")"
   ]
  },
  {
   "cell_type": "code",
   "execution_count": 91,
   "metadata": {},
   "outputs": [],
   "source": [
    "X = df[['mileage', 'year', 'brand', 'engingeType', 'engineCapacity']]\n",
    "y = df['price']"
   ]
  },
  {
   "cell_type": "code",
   "execution_count": 92,
   "metadata": {},
   "outputs": [],
   "source": [
    "X_train, X_test, y_train, y_test = train_test_split(X, y, test_size=0.2)"
   ]
  },
  {
   "cell_type": "code",
   "execution_count": 93,
   "metadata": {},
   "outputs": [],
   "source": [
    "class PandasSelector(BaseEstimator, TransformerMixin):\n",
    "    \n",
    "    def __init__(self, selected_columns):\n",
    "        self.selected_columns = selected_columns\n",
    "    \n",
    "    def fit(self, df, *args):\n",
    "        self.fitted_ = True\n",
    "        return self\n",
    "\n",
    "    def transform(self, df):\n",
    "        return np.array(df[self.selected_columns])"
   ]
  },
  {
   "cell_type": "code",
   "execution_count": 97,
   "metadata": {},
   "outputs": [],
   "source": [
    "class MileagePerYear(BaseEstimator, TransformerMixin):\n",
    "    \n",
    "    def fit(self, df, *args):\n",
    "        return self\n",
    "\n",
    "    def transform(self, df):\n",
    "        mpy = np.array(df['mileage']/(2018 - df['year']))\n",
    "        log_mpy = np.log(1 + mpy)\n",
    "        return np.reshape(log_mpy, (-1, 1))\n",
    "\n",
    "\n",
    "class StringConverter(BaseEstimator, TransformerMixin):\n",
    "    \n",
    "    def __init__(self):\n",
    "        self.map = {} # column : string : int\n",
    "    \n",
    "    def fit(self, X, *args):\n",
    "        for col in range(X.shape[1]):\n",
    "            self.map[col] = {}\n",
    "            idx = 1\n",
    "            for row in range(X.shape[0]):\n",
    "                s = X[row, col]\n",
    "                if s not in self.map[col]:\n",
    "                    self.map[col][s] = idx\n",
    "                    idx += 1\n",
    "        return self\n",
    "\n",
    "    def transform(self, X):\n",
    "        X_int = np.zeros(shape=X.shape)\n",
    "        for col in range(X.shape[1]):\n",
    "            for row in range(X.shape[0]):\n",
    "                s = X[row, col]\n",
    "                X_int[row, col] = self.map[col].get(s, 0)\n",
    "\n",
    "        return X_int"
   ]
  },
  {
   "cell_type": "code",
   "execution_count": 111,
   "metadata": {},
   "outputs": [],
   "source": [
    "pipeline = make_pipeline(\n",
    "    make_union(\n",
    "        # how old is it?\n",
    "        make_pipeline(\n",
    "            PandasSelector(['year']),\n",
    "            FunctionTransformer(\n",
    "                lambda x: np.log(2018 - x),\n",
    "                validate=False,\n",
    "            ),\n",
    "        ),\n",
    "        # float feats\n",
    "        make_pipeline(\n",
    "            PandasSelector(['mileage', 'engineCapacity']),\n",
    "            StandardScaler(),\n",
    "        ),\n",
    "        # was it used often?\n",
    "        make_pipeline(\n",
    "            MileagePerYear(),\n",
    "            StandardScaler(),\n",
    "        ),\n",
    "        # brand\n",
    "        make_pipeline(\n",
    "            PandasSelector(['brand']),\n",
    "            StringConverter(),\n",
    "            OneHotEncoder(sparse=False),\n",
    "            PCA(20),\n",
    "        ),\n",
    "    ),\n",
    "    LinearRegression(),\n",
    ")\n",
    "\n",
    "model = pipeline.fit(X_train, y_train)"
   ]
  },
  {
   "cell_type": "code",
   "execution_count": 112,
   "metadata": {},
   "outputs": [
    {
     "data": {
      "text/plain": [
       "14756.51365243448"
      ]
     },
     "execution_count": 112,
     "metadata": {},
     "output_type": "execute_result"
    }
   ],
   "source": [
    "from sklearn.metrics import mean_absolute_error\n",
    "\n",
    "mean_absolute_error(y_test, model.predict(X_test))"
   ]
  },
  {
   "cell_type": "code",
   "execution_count": null,
   "metadata": {},
   "outputs": [],
   "source": []
  }
 ],
 "metadata": {
  "kernelspec": {
   "display_name": "Python [default]",
   "language": "python",
   "name": "python3"
  },
  "language_info": {
   "codemirror_mode": {
    "name": "ipython",
    "version": 3
   },
   "file_extension": ".py",
   "mimetype": "text/x-python",
   "name": "python",
   "nbconvert_exporter": "python",
   "pygments_lexer": "ipython3",
   "version": "3.6.6"
  }
 },
 "nbformat": 4,
 "nbformat_minor": 2
}
