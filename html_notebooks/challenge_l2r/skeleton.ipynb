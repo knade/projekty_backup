{
 "cells": [
  {
   "cell_type": "markdown",
   "metadata": {},
   "source": [
    "## Learning to rank\n",
    "\n",
    "### Problem overview\n",
    "\n",
    "### Some literature\n",
    "\n",
    "### Some tools\n",
    "\n",
    "### Dataset\n",
    "\n",
    "Dataset can be taken from hdfs:\n",
    "    \n",
    "    hdfs dfs -get /projects/kraken/html/l2r_dataset.csv\n",
    "Or from google drive:\n",
    "    \n",
    "    wget https://drive.google.com/open?id=1Iy7CauA5ptOaVjskUbxvV6gbzcaDpFDK\n",
    "    "
   ]
  },
  {
   "cell_type": "code",
   "execution_count": 1,
   "metadata": {},
   "outputs": [],
   "source": [
    "import pandas as pd\n",
    "import numpy as np"
   ]
  },
  {
   "cell_type": "code",
   "execution_count": 3,
   "metadata": {},
   "outputs": [],
   "source": [
    "data=pd.read_csv('../../MLR-rozwiązania-zadan-rekrutacyjnych/dataset.csv')"
   ]
  },
  {
   "cell_type": "code",
   "execution_count": 4,
   "metadata": {},
   "outputs": [
    {
     "data": {
      "text/plain": [
       "(4799591, 55)"
      ]
     },
     "execution_count": 4,
     "metadata": {},
     "output_type": "execute_result"
    }
   ],
   "source": [
    "data.shape"
   ]
  },
  {
   "cell_type": "code",
   "execution_count": 5,
   "metadata": {},
   "outputs": [
    {
     "data": {
      "text/html": [
       "<div>\n",
       "<style scoped>\n",
       "    .dataframe tbody tr th:only-of-type {\n",
       "        vertical-align: middle;\n",
       "    }\n",
       "\n",
       "    .dataframe tbody tr th {\n",
       "        vertical-align: top;\n",
       "    }\n",
       "\n",
       "    .dataframe thead th {\n",
       "        text-align: right;\n",
       "    }\n",
       "</style>\n",
       "<table border=\"1\" class=\"dataframe\">\n",
       "  <thead>\n",
       "    <tr style=\"text-align: right;\">\n",
       "      <th></th>\n",
       "      <th>listing_id</th>\n",
       "      <th>doc_rank</th>\n",
       "      <th>clicked</th>\n",
       "      <th>n0</th>\n",
       "      <th>n1</th>\n",
       "      <th>n2</th>\n",
       "      <th>n3</th>\n",
       "      <th>n4</th>\n",
       "      <th>n5</th>\n",
       "      <th>n6</th>\n",
       "      <th>...</th>\n",
       "      <th>n42</th>\n",
       "      <th>n43</th>\n",
       "      <th>n44</th>\n",
       "      <th>n45</th>\n",
       "      <th>n46</th>\n",
       "      <th>c0</th>\n",
       "      <th>c1</th>\n",
       "      <th>c2</th>\n",
       "      <th>c3</th>\n",
       "      <th>c4</th>\n",
       "    </tr>\n",
       "  </thead>\n",
       "  <tbody>\n",
       "    <tr>\n",
       "      <th>0</th>\n",
       "      <td>0</td>\n",
       "      <td>0</td>\n",
       "      <td>0</td>\n",
       "      <td>1.0</td>\n",
       "      <td>0.0</td>\n",
       "      <td>0.0</td>\n",
       "      <td>0.0</td>\n",
       "      <td>0.0</td>\n",
       "      <td>1.0</td>\n",
       "      <td>0.0</td>\n",
       "      <td>...</td>\n",
       "      <td>0.0</td>\n",
       "      <td>0.0</td>\n",
       "      <td>0.0</td>\n",
       "      <td>0.0</td>\n",
       "      <td>0.0</td>\n",
       "      <td>0</td>\n",
       "      <td>0</td>\n",
       "      <td>4</td>\n",
       "      <td>1</td>\n",
       "      <td>1</td>\n",
       "    </tr>\n",
       "    <tr>\n",
       "      <th>1</th>\n",
       "      <td>0</td>\n",
       "      <td>1</td>\n",
       "      <td>0</td>\n",
       "      <td>1.0</td>\n",
       "      <td>0.0</td>\n",
       "      <td>0.0</td>\n",
       "      <td>0.0</td>\n",
       "      <td>0.0</td>\n",
       "      <td>0.0</td>\n",
       "      <td>0.0</td>\n",
       "      <td>...</td>\n",
       "      <td>0.0</td>\n",
       "      <td>0.0</td>\n",
       "      <td>0.0</td>\n",
       "      <td>0.0</td>\n",
       "      <td>0.0</td>\n",
       "      <td>0</td>\n",
       "      <td>0</td>\n",
       "      <td>4</td>\n",
       "      <td>1</td>\n",
       "      <td>1</td>\n",
       "    </tr>\n",
       "    <tr>\n",
       "      <th>2</th>\n",
       "      <td>0</td>\n",
       "      <td>2</td>\n",
       "      <td>0</td>\n",
       "      <td>1.0</td>\n",
       "      <td>0.0</td>\n",
       "      <td>0.0</td>\n",
       "      <td>0.0</td>\n",
       "      <td>0.0</td>\n",
       "      <td>1.0</td>\n",
       "      <td>0.0</td>\n",
       "      <td>...</td>\n",
       "      <td>0.0</td>\n",
       "      <td>0.0</td>\n",
       "      <td>0.0</td>\n",
       "      <td>0.0</td>\n",
       "      <td>0.0</td>\n",
       "      <td>0</td>\n",
       "      <td>0</td>\n",
       "      <td>4</td>\n",
       "      <td>1</td>\n",
       "      <td>1</td>\n",
       "    </tr>\n",
       "    <tr>\n",
       "      <th>3</th>\n",
       "      <td>0</td>\n",
       "      <td>3</td>\n",
       "      <td>0</td>\n",
       "      <td>1.0</td>\n",
       "      <td>0.0</td>\n",
       "      <td>1.0</td>\n",
       "      <td>0.0</td>\n",
       "      <td>0.0</td>\n",
       "      <td>1.0</td>\n",
       "      <td>0.0</td>\n",
       "      <td>...</td>\n",
       "      <td>0.0</td>\n",
       "      <td>0.0</td>\n",
       "      <td>0.0</td>\n",
       "      <td>0.0</td>\n",
       "      <td>0.0</td>\n",
       "      <td>0</td>\n",
       "      <td>0</td>\n",
       "      <td>4</td>\n",
       "      <td>1</td>\n",
       "      <td>1</td>\n",
       "    </tr>\n",
       "    <tr>\n",
       "      <th>4</th>\n",
       "      <td>0</td>\n",
       "      <td>4</td>\n",
       "      <td>0</td>\n",
       "      <td>1.0</td>\n",
       "      <td>0.0</td>\n",
       "      <td>0.0</td>\n",
       "      <td>0.0</td>\n",
       "      <td>0.0</td>\n",
       "      <td>1.0</td>\n",
       "      <td>0.0</td>\n",
       "      <td>...</td>\n",
       "      <td>0.0</td>\n",
       "      <td>0.0</td>\n",
       "      <td>0.0</td>\n",
       "      <td>0.0</td>\n",
       "      <td>0.0</td>\n",
       "      <td>0</td>\n",
       "      <td>0</td>\n",
       "      <td>4</td>\n",
       "      <td>1</td>\n",
       "      <td>1</td>\n",
       "    </tr>\n",
       "  </tbody>\n",
       "</table>\n",
       "<p>5 rows × 55 columns</p>\n",
       "</div>"
      ],
      "text/plain": [
       "   listing_id  doc_rank  clicked   n0   n1   n2   n3   n4   n5   n6 ...  n42  \\\n",
       "0           0         0        0  1.0  0.0  0.0  0.0  0.0  1.0  0.0 ...  0.0   \n",
       "1           0         1        0  1.0  0.0  0.0  0.0  0.0  0.0  0.0 ...  0.0   \n",
       "2           0         2        0  1.0  0.0  0.0  0.0  0.0  1.0  0.0 ...  0.0   \n",
       "3           0         3        0  1.0  0.0  1.0  0.0  0.0  1.0  0.0 ...  0.0   \n",
       "4           0         4        0  1.0  0.0  0.0  0.0  0.0  1.0  0.0 ...  0.0   \n",
       "\n",
       "   n43  n44  n45  n46  c0  c1  c2  c3  c4  \n",
       "0  0.0  0.0  0.0  0.0   0   0   4   1   1  \n",
       "1  0.0  0.0  0.0  0.0   0   0   4   1   1  \n",
       "2  0.0  0.0  0.0  0.0   0   0   4   1   1  \n",
       "3  0.0  0.0  0.0  0.0   0   0   4   1   1  \n",
       "4  0.0  0.0  0.0  0.0   0   0   4   1   1  \n",
       "\n",
       "[5 rows x 55 columns]"
      ]
     },
     "execution_count": 5,
     "metadata": {},
     "output_type": "execute_result"
    }
   ],
   "source": [
    "data.head()"
   ]
  },
  {
   "cell_type": "markdown",
   "metadata": {},
   "source": [
    "Clicked column determines whever the document was relevant. Feature vector consist of Numerical values n0-n46 and categorical c0-c1. "
   ]
  },
  {
   "cell_type": "code",
   "execution_count": 7,
   "metadata": {},
   "outputs": [],
   "source": [
    "data.c0=data.c0.astype(\"category\")\n",
    "data.c1=data.c1.astype(\"category\")\n",
    "data.c2=data.c2.astype(\"category\")\n",
    "data.c3=data.c3.astype(\"category\")\n",
    "data.c4=data.c4.astype(\"category\")"
   ]
  },
  {
   "cell_type": "code",
   "execution_count": 8,
   "metadata": {},
   "outputs": [
    {
     "data": {
      "text/html": [
       "<div>\n",
       "<style scoped>\n",
       "    .dataframe tbody tr th:only-of-type {\n",
       "        vertical-align: middle;\n",
       "    }\n",
       "\n",
       "    .dataframe tbody tr th {\n",
       "        vertical-align: top;\n",
       "    }\n",
       "\n",
       "    .dataframe thead th {\n",
       "        text-align: right;\n",
       "    }\n",
       "</style>\n",
       "<table border=\"1\" class=\"dataframe\">\n",
       "  <thead>\n",
       "    <tr style=\"text-align: right;\">\n",
       "      <th></th>\n",
       "      <th>c0</th>\n",
       "      <th>c1</th>\n",
       "      <th>c2</th>\n",
       "      <th>c3</th>\n",
       "      <th>c4</th>\n",
       "    </tr>\n",
       "  </thead>\n",
       "  <tbody>\n",
       "    <tr>\n",
       "      <th>count</th>\n",
       "      <td>4799591</td>\n",
       "      <td>4799591</td>\n",
       "      <td>4799591</td>\n",
       "      <td>4799591</td>\n",
       "      <td>4799591</td>\n",
       "    </tr>\n",
       "    <tr>\n",
       "      <th>unique</th>\n",
       "      <td>4</td>\n",
       "      <td>2</td>\n",
       "      <td>9</td>\n",
       "      <td>4</td>\n",
       "      <td>3</td>\n",
       "    </tr>\n",
       "    <tr>\n",
       "      <th>top</th>\n",
       "      <td>0</td>\n",
       "      <td>0</td>\n",
       "      <td>4</td>\n",
       "      <td>0</td>\n",
       "      <td>1</td>\n",
       "    </tr>\n",
       "    <tr>\n",
       "      <th>freq</th>\n",
       "      <td>4449099</td>\n",
       "      <td>4424105</td>\n",
       "      <td>4670574</td>\n",
       "      <td>2253602</td>\n",
       "      <td>2314987</td>\n",
       "    </tr>\n",
       "  </tbody>\n",
       "</table>\n",
       "</div>"
      ],
      "text/plain": [
       "             c0       c1       c2       c3       c4\n",
       "count   4799591  4799591  4799591  4799591  4799591\n",
       "unique        4        2        9        4        3\n",
       "top           0        0        4        0        1\n",
       "freq    4449099  4424105  4670574  2253602  2314987"
      ]
     },
     "execution_count": 8,
     "metadata": {},
     "output_type": "execute_result"
    }
   ],
   "source": [
    "data.describe(include={'category'})"
   ]
  },
  {
   "cell_type": "code",
   "execution_count": 9,
   "metadata": {},
   "outputs": [
    {
     "data": {
      "text/html": [
       "<div>\n",
       "<style scoped>\n",
       "    .dataframe tbody tr th:only-of-type {\n",
       "        vertical-align: middle;\n",
       "    }\n",
       "\n",
       "    .dataframe tbody tr th {\n",
       "        vertical-align: top;\n",
       "    }\n",
       "\n",
       "    .dataframe thead th {\n",
       "        text-align: right;\n",
       "    }\n",
       "</style>\n",
       "<table border=\"1\" class=\"dataframe\">\n",
       "  <thead>\n",
       "    <tr style=\"text-align: right;\">\n",
       "      <th></th>\n",
       "      <th>n0</th>\n",
       "      <th>n1</th>\n",
       "      <th>n2</th>\n",
       "      <th>n3</th>\n",
       "      <th>n4</th>\n",
       "      <th>n5</th>\n",
       "      <th>n6</th>\n",
       "      <th>n7</th>\n",
       "      <th>n8</th>\n",
       "      <th>n9</th>\n",
       "      <th>...</th>\n",
       "      <th>n37</th>\n",
       "      <th>n38</th>\n",
       "      <th>n39</th>\n",
       "      <th>n40</th>\n",
       "      <th>n41</th>\n",
       "      <th>n42</th>\n",
       "      <th>n43</th>\n",
       "      <th>n44</th>\n",
       "      <th>n45</th>\n",
       "      <th>n46</th>\n",
       "    </tr>\n",
       "  </thead>\n",
       "  <tbody>\n",
       "    <tr>\n",
       "      <th>count</th>\n",
       "      <td>4.799591e+06</td>\n",
       "      <td>4.799591e+06</td>\n",
       "      <td>4.799591e+06</td>\n",
       "      <td>4.799591e+06</td>\n",
       "      <td>4.799591e+06</td>\n",
       "      <td>4.799591e+06</td>\n",
       "      <td>4799591.0</td>\n",
       "      <td>4.799591e+06</td>\n",
       "      <td>4.799591e+06</td>\n",
       "      <td>4.799591e+06</td>\n",
       "      <td>...</td>\n",
       "      <td>4.799591e+06</td>\n",
       "      <td>4.799591e+06</td>\n",
       "      <td>4.799591e+06</td>\n",
       "      <td>4.799591e+06</td>\n",
       "      <td>4.799591e+06</td>\n",
       "      <td>4.799591e+06</td>\n",
       "      <td>4.799591e+06</td>\n",
       "      <td>4.799591e+06</td>\n",
       "      <td>4.799591e+06</td>\n",
       "      <td>4.799591e+06</td>\n",
       "    </tr>\n",
       "    <tr>\n",
       "      <th>mean</th>\n",
       "      <td>9.904567e-01</td>\n",
       "      <td>9.444721e-02</td>\n",
       "      <td>4.833635e-01</td>\n",
       "      <td>3.089555e-02</td>\n",
       "      <td>1.043943e-02</td>\n",
       "      <td>9.052382e-01</td>\n",
       "      <td>0.0</td>\n",
       "      <td>1.296544e+02</td>\n",
       "      <td>3.085340e+03</td>\n",
       "      <td>3.172359e+03</td>\n",
       "      <td>...</td>\n",
       "      <td>4.647375e-01</td>\n",
       "      <td>1.160406e+03</td>\n",
       "      <td>1.306972e+03</td>\n",
       "      <td>6.087273e+00</td>\n",
       "      <td>6.200157e+00</td>\n",
       "      <td>1.424516e-01</td>\n",
       "      <td>7.056783e-01</td>\n",
       "      <td>7.029861e-01</td>\n",
       "      <td>7.104559e-01</td>\n",
       "      <td>7.102847e-01</td>\n",
       "    </tr>\n",
       "    <tr>\n",
       "      <th>std</th>\n",
       "      <td>9.722263e-02</td>\n",
       "      <td>2.924499e-01</td>\n",
       "      <td>4.997232e-01</td>\n",
       "      <td>1.730347e-01</td>\n",
       "      <td>1.016388e-01</td>\n",
       "      <td>2.928857e-01</td>\n",
       "      <td>0.0</td>\n",
       "      <td>2.905372e+03</td>\n",
       "      <td>1.571113e+04</td>\n",
       "      <td>1.578918e+04</td>\n",
       "      <td>...</td>\n",
       "      <td>4.987551e-01</td>\n",
       "      <td>7.132471e+03</td>\n",
       "      <td>8.350907e+03</td>\n",
       "      <td>5.754844e+01</td>\n",
       "      <td>5.909137e+01</td>\n",
       "      <td>3.480947e-01</td>\n",
       "      <td>1.724934e+00</td>\n",
       "      <td>1.717792e+00</td>\n",
       "      <td>1.735944e+00</td>\n",
       "      <td>1.735536e+00</td>\n",
       "    </tr>\n",
       "    <tr>\n",
       "      <th>min</th>\n",
       "      <td>0.000000e+00</td>\n",
       "      <td>0.000000e+00</td>\n",
       "      <td>0.000000e+00</td>\n",
       "      <td>0.000000e+00</td>\n",
       "      <td>0.000000e+00</td>\n",
       "      <td>0.000000e+00</td>\n",
       "      <td>0.0</td>\n",
       "      <td>0.000000e+00</td>\n",
       "      <td>0.000000e+00</td>\n",
       "      <td>0.000000e+00</td>\n",
       "      <td>...</td>\n",
       "      <td>0.000000e+00</td>\n",
       "      <td>0.000000e+00</td>\n",
       "      <td>0.000000e+00</td>\n",
       "      <td>0.000000e+00</td>\n",
       "      <td>0.000000e+00</td>\n",
       "      <td>0.000000e+00</td>\n",
       "      <td>0.000000e+00</td>\n",
       "      <td>0.000000e+00</td>\n",
       "      <td>0.000000e+00</td>\n",
       "      <td>0.000000e+00</td>\n",
       "    </tr>\n",
       "    <tr>\n",
       "      <th>25%</th>\n",
       "      <td>1.000000e+00</td>\n",
       "      <td>0.000000e+00</td>\n",
       "      <td>0.000000e+00</td>\n",
       "      <td>0.000000e+00</td>\n",
       "      <td>0.000000e+00</td>\n",
       "      <td>1.000000e+00</td>\n",
       "      <td>0.0</td>\n",
       "      <td>2.999000e+01</td>\n",
       "      <td>4.000000e+00</td>\n",
       "      <td>5.000000e+00</td>\n",
       "      <td>...</td>\n",
       "      <td>0.000000e+00</td>\n",
       "      <td>0.000000e+00</td>\n",
       "      <td>0.000000e+00</td>\n",
       "      <td>0.000000e+00</td>\n",
       "      <td>0.000000e+00</td>\n",
       "      <td>0.000000e+00</td>\n",
       "      <td>0.000000e+00</td>\n",
       "      <td>0.000000e+00</td>\n",
       "      <td>0.000000e+00</td>\n",
       "      <td>0.000000e+00</td>\n",
       "    </tr>\n",
       "    <tr>\n",
       "      <th>50%</th>\n",
       "      <td>1.000000e+00</td>\n",
       "      <td>0.000000e+00</td>\n",
       "      <td>0.000000e+00</td>\n",
       "      <td>0.000000e+00</td>\n",
       "      <td>0.000000e+00</td>\n",
       "      <td>1.000000e+00</td>\n",
       "      <td>0.0</td>\n",
       "      <td>6.130000e+01</td>\n",
       "      <td>2.300000e+01</td>\n",
       "      <td>4.000000e+01</td>\n",
       "      <td>...</td>\n",
       "      <td>0.000000e+00</td>\n",
       "      <td>0.000000e+00</td>\n",
       "      <td>0.000000e+00</td>\n",
       "      <td>0.000000e+00</td>\n",
       "      <td>0.000000e+00</td>\n",
       "      <td>0.000000e+00</td>\n",
       "      <td>0.000000e+00</td>\n",
       "      <td>0.000000e+00</td>\n",
       "      <td>0.000000e+00</td>\n",
       "      <td>0.000000e+00</td>\n",
       "    </tr>\n",
       "    <tr>\n",
       "      <th>75%</th>\n",
       "      <td>1.000000e+00</td>\n",
       "      <td>0.000000e+00</td>\n",
       "      <td>1.000000e+00</td>\n",
       "      <td>0.000000e+00</td>\n",
       "      <td>0.000000e+00</td>\n",
       "      <td>1.000000e+00</td>\n",
       "      <td>0.0</td>\n",
       "      <td>1.180000e+02</td>\n",
       "      <td>1.540000e+02</td>\n",
       "      <td>3.000000e+02</td>\n",
       "      <td>...</td>\n",
       "      <td>1.000000e+00</td>\n",
       "      <td>0.000000e+00</td>\n",
       "      <td>0.000000e+00</td>\n",
       "      <td>0.000000e+00</td>\n",
       "      <td>0.000000e+00</td>\n",
       "      <td>0.000000e+00</td>\n",
       "      <td>0.000000e+00</td>\n",
       "      <td>0.000000e+00</td>\n",
       "      <td>0.000000e+00</td>\n",
       "      <td>0.000000e+00</td>\n",
       "    </tr>\n",
       "    <tr>\n",
       "      <th>max</th>\n",
       "      <td>1.000000e+00</td>\n",
       "      <td>1.000000e+00</td>\n",
       "      <td>1.000000e+00</td>\n",
       "      <td>1.000000e+00</td>\n",
       "      <td>1.000000e+00</td>\n",
       "      <td>1.000000e+00</td>\n",
       "      <td>0.0</td>\n",
       "      <td>1.200000e+06</td>\n",
       "      <td>1.000000e+05</td>\n",
       "      <td>1.000000e+05</td>\n",
       "      <td>...</td>\n",
       "      <td>1.000000e+00</td>\n",
       "      <td>1.915800e+05</td>\n",
       "      <td>2.286910e+05</td>\n",
       "      <td>3.326000e+03</td>\n",
       "      <td>3.490000e+03</td>\n",
       "      <td>1.000000e+00</td>\n",
       "      <td>5.000000e+00</td>\n",
       "      <td>5.000000e+00</td>\n",
       "      <td>5.000000e+00</td>\n",
       "      <td>5.000000e+00</td>\n",
       "    </tr>\n",
       "  </tbody>\n",
       "</table>\n",
       "<p>8 rows × 47 columns</p>\n",
       "</div>"
      ],
      "text/plain": [
       "                 n0            n1            n2            n3            n4  \\\n",
       "count  4.799591e+06  4.799591e+06  4.799591e+06  4.799591e+06  4.799591e+06   \n",
       "mean   9.904567e-01  9.444721e-02  4.833635e-01  3.089555e-02  1.043943e-02   \n",
       "std    9.722263e-02  2.924499e-01  4.997232e-01  1.730347e-01  1.016388e-01   \n",
       "min    0.000000e+00  0.000000e+00  0.000000e+00  0.000000e+00  0.000000e+00   \n",
       "25%    1.000000e+00  0.000000e+00  0.000000e+00  0.000000e+00  0.000000e+00   \n",
       "50%    1.000000e+00  0.000000e+00  0.000000e+00  0.000000e+00  0.000000e+00   \n",
       "75%    1.000000e+00  0.000000e+00  1.000000e+00  0.000000e+00  0.000000e+00   \n",
       "max    1.000000e+00  1.000000e+00  1.000000e+00  1.000000e+00  1.000000e+00   \n",
       "\n",
       "                 n5         n6            n7            n8            n9  \\\n",
       "count  4.799591e+06  4799591.0  4.799591e+06  4.799591e+06  4.799591e+06   \n",
       "mean   9.052382e-01        0.0  1.296544e+02  3.085340e+03  3.172359e+03   \n",
       "std    2.928857e-01        0.0  2.905372e+03  1.571113e+04  1.578918e+04   \n",
       "min    0.000000e+00        0.0  0.000000e+00  0.000000e+00  0.000000e+00   \n",
       "25%    1.000000e+00        0.0  2.999000e+01  4.000000e+00  5.000000e+00   \n",
       "50%    1.000000e+00        0.0  6.130000e+01  2.300000e+01  4.000000e+01   \n",
       "75%    1.000000e+00        0.0  1.180000e+02  1.540000e+02  3.000000e+02   \n",
       "max    1.000000e+00        0.0  1.200000e+06  1.000000e+05  1.000000e+05   \n",
       "\n",
       "           ...                n37           n38           n39           n40  \\\n",
       "count      ...       4.799591e+06  4.799591e+06  4.799591e+06  4.799591e+06   \n",
       "mean       ...       4.647375e-01  1.160406e+03  1.306972e+03  6.087273e+00   \n",
       "std        ...       4.987551e-01  7.132471e+03  8.350907e+03  5.754844e+01   \n",
       "min        ...       0.000000e+00  0.000000e+00  0.000000e+00  0.000000e+00   \n",
       "25%        ...       0.000000e+00  0.000000e+00  0.000000e+00  0.000000e+00   \n",
       "50%        ...       0.000000e+00  0.000000e+00  0.000000e+00  0.000000e+00   \n",
       "75%        ...       1.000000e+00  0.000000e+00  0.000000e+00  0.000000e+00   \n",
       "max        ...       1.000000e+00  1.915800e+05  2.286910e+05  3.326000e+03   \n",
       "\n",
       "                n41           n42           n43           n44           n45  \\\n",
       "count  4.799591e+06  4.799591e+06  4.799591e+06  4.799591e+06  4.799591e+06   \n",
       "mean   6.200157e+00  1.424516e-01  7.056783e-01  7.029861e-01  7.104559e-01   \n",
       "std    5.909137e+01  3.480947e-01  1.724934e+00  1.717792e+00  1.735944e+00   \n",
       "min    0.000000e+00  0.000000e+00  0.000000e+00  0.000000e+00  0.000000e+00   \n",
       "25%    0.000000e+00  0.000000e+00  0.000000e+00  0.000000e+00  0.000000e+00   \n",
       "50%    0.000000e+00  0.000000e+00  0.000000e+00  0.000000e+00  0.000000e+00   \n",
       "75%    0.000000e+00  0.000000e+00  0.000000e+00  0.000000e+00  0.000000e+00   \n",
       "max    3.490000e+03  1.000000e+00  5.000000e+00  5.000000e+00  5.000000e+00   \n",
       "\n",
       "                n46  \n",
       "count  4.799591e+06  \n",
       "mean   7.102847e-01  \n",
       "std    1.735536e+00  \n",
       "min    0.000000e+00  \n",
       "25%    0.000000e+00  \n",
       "50%    0.000000e+00  \n",
       "75%    0.000000e+00  \n",
       "max    5.000000e+00  \n",
       "\n",
       "[8 rows x 47 columns]"
      ]
     },
     "execution_count": 9,
     "metadata": {},
     "output_type": "execute_result"
    }
   ],
   "source": [
    "data.iloc[:,3:50].describe()"
   ]
  },
  {
   "cell_type": "markdown",
   "metadata": {},
   "source": [
    "The maximum number of documents in listing is:"
   ]
  },
  {
   "cell_type": "code",
   "execution_count": 10,
   "metadata": {},
   "outputs": [
    {
     "data": {
      "text/plain": [
       "75"
      ]
     },
     "execution_count": 10,
     "metadata": {},
     "output_type": "execute_result"
    }
   ],
   "source": [
    "data.groupby('listing_id')['clicked'].count().max()"
   ]
  },
  {
   "cell_type": "markdown",
   "metadata": {},
   "source": [
    "and the mininmum is:"
   ]
  },
  {
   "cell_type": "code",
   "execution_count": 11,
   "metadata": {},
   "outputs": [
    {
     "data": {
      "text/plain": [
       "1"
      ]
     },
     "execution_count": 11,
     "metadata": {},
     "output_type": "execute_result"
    }
   ],
   "source": [
    "data.groupby('listing_id')['clicked'].count().min()"
   ]
  },
  {
   "cell_type": "markdown",
   "metadata": {},
   "source": [
    "Number of relevant documents:"
   ]
  },
  {
   "cell_type": "code",
   "execution_count": 12,
   "metadata": {},
   "outputs": [
    {
     "data": {
      "text/plain": [
       "99997"
      ]
     },
     "execution_count": 12,
     "metadata": {},
     "output_type": "execute_result"
    }
   ],
   "source": [
    "len(data[data.clicked==1]['listing_id'].unique())"
   ]
  },
  {
   "cell_type": "code",
   "execution_count": 14,
   "metadata": {},
   "outputs": [
    {
     "data": {
      "text/plain": [
       "array([0, 1])"
      ]
     },
     "execution_count": 14,
     "metadata": {},
     "output_type": "execute_result"
    }
   ],
   "source": [
    "pd.unique(data.clicked) #binary relevance"
   ]
  },
  {
   "cell_type": "markdown",
   "metadata": {},
   "source": [
    "Number of listings:"
   ]
  },
  {
   "cell_type": "code",
   "execution_count": 15,
   "metadata": {},
   "outputs": [
    {
     "data": {
      "text/plain": [
       "100000"
      ]
     },
     "execution_count": 15,
     "metadata": {},
     "output_type": "execute_result"
    }
   ],
   "source": [
    "len(data['listing_id'].unique())"
   ]
  },
  {
   "cell_type": "markdown",
   "metadata": {},
   "source": [
    "## NDCG"
   ]
  },
  {
   "cell_type": "markdown",
   "metadata": {},
   "source": [
    "### Task no 1. implement NDCG function:\n",
    "\n",
    "   hint: https://en.wikipedia.org/wiki/Discounted_cumulative_gain<a href=\"https://en.wikipedia.org/wiki/Discounted_cumulative_gain\"></a>"
   ]
  },
  {
   "cell_type": "code",
   "execution_count": 16,
   "metadata": {},
   "outputs": [],
   "source": [
    "# input is an ordered collection of relevancies.\n",
    "# e.g. [0,1,0] represents a listing with 3 elements, where second element is relevent (relevancy == 1)\n",
    "\n",
    "def dcg(values):\n",
    "    return \n",
    "    \n",
    "def ndcg(values):   \n",
    "    return dcg_ / idcg"
   ]
  },
  {
   "cell_type": "code",
   "execution_count": 26,
   "metadata": {},
   "outputs": [],
   "source": [
    "# test suite\n",
    "assert dcg([1,0,0]) == 1\n",
    "assert dcg([0,0,1]) == 0.5\n",
    "assert dcg([1,0,1]) == 1.5\n",
    "\n",
    "assert ndcg([1,0,0]) == 1\n",
    "assert ndcg([0,0,1]) == 0.5\n",
    "assert ndcg([1,0,1]) == 1.5/1.6309297535714575"
   ]
  },
  {
   "cell_type": "code",
   "execution_count": 39,
   "metadata": {},
   "outputs": [
    {
     "data": {
      "text/plain": [
       "0.27894294565112987"
      ]
     },
     "execution_count": 39,
     "metadata": {},
     "output_type": "execute_result"
    }
   ],
   "source": [
    "dcg([0,0,0,0,0,0,0,0,0,0,1])"
   ]
  },
  {
   "cell_type": "markdown",
   "metadata": {},
   "source": [
    "# modelling"
   ]
  },
  {
   "cell_type": "code",
   "execution_count": 28,
   "metadata": {},
   "outputs": [],
   "source": [
    "listing_ids = data['listing_id'].unique()\n",
    "from sklearn.model_selection import train_test_split\n",
    "LISTINGS_LIMIT=1000\n",
    "X_train_listings, X_test_listings = train_test_split(listing_ids[:LISTINGS_LIMIT], test_size=0.2)"
   ]
  },
  {
   "cell_type": "code",
   "execution_count": 29,
   "metadata": {},
   "outputs": [],
   "source": [
    "train = data[data['listing_id'].isin(X_train_listings)]\n",
    "test = data[data['listing_id'].isin(X_test_listings)]"
   ]
  },
  {
   "cell_type": "markdown",
   "metadata": {},
   "source": [
    "## Task 2: calculate ndcg for every listing in test dataset , and calculate mean"
   ]
  },
  {
   "cell_type": "code",
   "execution_count": null,
   "metadata": {},
   "outputs": [],
   "source": [
    "# expected = 0.30153690810291001"
   ]
  },
  {
   "cell_type": "code",
   "execution_count": 27,
   "metadata": {},
   "outputs": [],
   "source": []
  },
  {
   "cell_type": "code",
   "execution_count": null,
   "metadata": {
    "collapsed": true
   },
   "outputs": [],
   "source": []
  },
  {
   "cell_type": "code",
   "execution_count": null,
   "metadata": {
    "collapsed": true
   },
   "outputs": [],
   "source": []
  }
 ],
 "metadata": {
  "kernelspec": {
   "display_name": "Python [default]",
   "language": "python",
   "name": "python3"
  },
  "language_info": {
   "codemirror_mode": {
    "name": "ipython",
    "version": 3
   },
   "file_extension": ".py",
   "mimetype": "text/x-python",
   "name": "python",
   "nbconvert_exporter": "python",
   "pygments_lexer": "ipython3",
   "version": "3.6.5"
  }
 },
 "nbformat": 4,
 "nbformat_minor": 2
}
